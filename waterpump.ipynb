{
 "cells": [
  {
   "cell_type": "code",
   "execution_count": 1,
   "metadata": {},
   "outputs": [],
   "source": [
    "import pandas as pd\n",
    "import matplotlib.pyplot as plt\n",
    "import numpy as np\n",
    "import tensorflow as tf\n",
    "import time\n",
    "from utilities import *\n",
    "from sklearn.metrics import mean_squared_error\n",
    "import os\n",
    "from datetime import datetime"
   ]
  },
  {
   "cell_type": "code",
   "execution_count": 25,
   "metadata": {},
   "outputs": [],
   "source": [
    "waterpump_data = pd.read_csv('C:\\\\Users\\\\I539001\\\\Desktop\\\\PA2\\\\AL\\\\FeedbackBoost\\\\Data\\\\Kaggle_Waterpump.csv')"
   ]
  },
  {
   "cell_type": "code",
   "execution_count": 26,
   "metadata": {},
   "outputs": [
    {
     "data": {
      "text/html": [
       "<div>\n",
       "<style scoped>\n",
       "    .dataframe tbody tr th:only-of-type {\n",
       "        vertical-align: middle;\n",
       "    }\n",
       "\n",
       "    .dataframe tbody tr th {\n",
       "        vertical-align: top;\n",
       "    }\n",
       "\n",
       "    .dataframe thead th {\n",
       "        text-align: right;\n",
       "    }\n",
       "</style>\n",
       "<table border=\"1\" class=\"dataframe\">\n",
       "  <thead>\n",
       "    <tr style=\"text-align: right;\">\n",
       "      <th></th>\n",
       "      <th>Unnamed: 0</th>\n",
       "      <th>rtf_id</th>\n",
       "      <th>ts_int</th>\n",
       "      <th>timestamp</th>\n",
       "      <th>sensor_00</th>\n",
       "      <th>sensor_01</th>\n",
       "      <th>sensor_02</th>\n",
       "      <th>sensor_03</th>\n",
       "      <th>sensor_04</th>\n",
       "      <th>sensor_05</th>\n",
       "      <th>...</th>\n",
       "      <th>sensor_47</th>\n",
       "      <th>sensor_48</th>\n",
       "      <th>sensor_49</th>\n",
       "      <th>slice_id</th>\n",
       "      <th>cnt_per_rtf</th>\n",
       "      <th>cycle</th>\n",
       "      <th>RUL</th>\n",
       "      <th>RUL_pw</th>\n",
       "      <th>phase</th>\n",
       "      <th>IMM_FAILURE</th>\n",
       "    </tr>\n",
       "  </thead>\n",
       "  <tbody>\n",
       "    <tr>\n",
       "      <th>0</th>\n",
       "      <td>1</td>\n",
       "      <td>1</td>\n",
       "      <td>0</td>\n",
       "      <td>2018-04-01 00:00:00</td>\n",
       "      <td>2.465394</td>\n",
       "      <td>47.09201</td>\n",
       "      <td>53.2118</td>\n",
       "      <td>46.310760</td>\n",
       "      <td>634.3750</td>\n",
       "      <td>76.45975</td>\n",
       "      <td>...</td>\n",
       "      <td>38.194440</td>\n",
       "      <td>157.9861</td>\n",
       "      <td>67.70834</td>\n",
       "      <td>1</td>\n",
       "      <td>17155</td>\n",
       "      <td>1</td>\n",
       "      <td>17154</td>\n",
       "      <td>120</td>\n",
       "      <td>1</td>\n",
       "      <td>0</td>\n",
       "    </tr>\n",
       "    <tr>\n",
       "      <th>1</th>\n",
       "      <td>2</td>\n",
       "      <td>1</td>\n",
       "      <td>1</td>\n",
       "      <td>2018-04-01 00:01:00</td>\n",
       "      <td>2.465394</td>\n",
       "      <td>47.09201</td>\n",
       "      <td>53.2118</td>\n",
       "      <td>46.310760</td>\n",
       "      <td>634.3750</td>\n",
       "      <td>76.45975</td>\n",
       "      <td>...</td>\n",
       "      <td>38.194440</td>\n",
       "      <td>157.9861</td>\n",
       "      <td>67.70834</td>\n",
       "      <td>1</td>\n",
       "      <td>17155</td>\n",
       "      <td>2</td>\n",
       "      <td>17153</td>\n",
       "      <td>120</td>\n",
       "      <td>1</td>\n",
       "      <td>0</td>\n",
       "    </tr>\n",
       "    <tr>\n",
       "      <th>2</th>\n",
       "      <td>3</td>\n",
       "      <td>1</td>\n",
       "      <td>2</td>\n",
       "      <td>2018-04-01 00:02:00</td>\n",
       "      <td>2.444734</td>\n",
       "      <td>47.35243</td>\n",
       "      <td>53.2118</td>\n",
       "      <td>46.397570</td>\n",
       "      <td>638.8889</td>\n",
       "      <td>73.54598</td>\n",
       "      <td>...</td>\n",
       "      <td>38.194443</td>\n",
       "      <td>155.9606</td>\n",
       "      <td>67.12963</td>\n",
       "      <td>1</td>\n",
       "      <td>17155</td>\n",
       "      <td>3</td>\n",
       "      <td>17152</td>\n",
       "      <td>120</td>\n",
       "      <td>1</td>\n",
       "      <td>0</td>\n",
       "    </tr>\n",
       "    <tr>\n",
       "      <th>3</th>\n",
       "      <td>4</td>\n",
       "      <td>1</td>\n",
       "      <td>3</td>\n",
       "      <td>2018-04-01 00:03:00</td>\n",
       "      <td>2.460474</td>\n",
       "      <td>47.09201</td>\n",
       "      <td>53.1684</td>\n",
       "      <td>46.397568</td>\n",
       "      <td>628.1250</td>\n",
       "      <td>76.98898</td>\n",
       "      <td>...</td>\n",
       "      <td>38.194440</td>\n",
       "      <td>155.9606</td>\n",
       "      <td>66.84028</td>\n",
       "      <td>1</td>\n",
       "      <td>17155</td>\n",
       "      <td>4</td>\n",
       "      <td>17151</td>\n",
       "      <td>120</td>\n",
       "      <td>1</td>\n",
       "      <td>0</td>\n",
       "    </tr>\n",
       "    <tr>\n",
       "      <th>4</th>\n",
       "      <td>5</td>\n",
       "      <td>1</td>\n",
       "      <td>4</td>\n",
       "      <td>2018-04-01 00:04:00</td>\n",
       "      <td>2.445718</td>\n",
       "      <td>47.13541</td>\n",
       "      <td>53.2118</td>\n",
       "      <td>46.397568</td>\n",
       "      <td>636.4583</td>\n",
       "      <td>76.58897</td>\n",
       "      <td>...</td>\n",
       "      <td>38.773150</td>\n",
       "      <td>158.2755</td>\n",
       "      <td>66.55093</td>\n",
       "      <td>1</td>\n",
       "      <td>17155</td>\n",
       "      <td>5</td>\n",
       "      <td>17150</td>\n",
       "      <td>120</td>\n",
       "      <td>1</td>\n",
       "      <td>0</td>\n",
       "    </tr>\n",
       "  </tbody>\n",
       "</table>\n",
       "<p>5 rows × 60 columns</p>\n",
       "</div>"
      ],
      "text/plain": [
       "   Unnamed: 0  rtf_id  ts_int            timestamp  sensor_00  sensor_01  \\\n",
       "0           1       1       0  2018-04-01 00:00:00   2.465394   47.09201   \n",
       "1           2       1       1  2018-04-01 00:01:00   2.465394   47.09201   \n",
       "2           3       1       2  2018-04-01 00:02:00   2.444734   47.35243   \n",
       "3           4       1       3  2018-04-01 00:03:00   2.460474   47.09201   \n",
       "4           5       1       4  2018-04-01 00:04:00   2.445718   47.13541   \n",
       "\n",
       "   sensor_02  sensor_03  sensor_04  sensor_05  ...  sensor_47  sensor_48  \\\n",
       "0    53.2118  46.310760   634.3750   76.45975  ...  38.194440   157.9861   \n",
       "1    53.2118  46.310760   634.3750   76.45975  ...  38.194440   157.9861   \n",
       "2    53.2118  46.397570   638.8889   73.54598  ...  38.194443   155.9606   \n",
       "3    53.1684  46.397568   628.1250   76.98898  ...  38.194440   155.9606   \n",
       "4    53.2118  46.397568   636.4583   76.58897  ...  38.773150   158.2755   \n",
       "\n",
       "   sensor_49  slice_id  cnt_per_rtf  cycle    RUL  RUL_pw  phase  IMM_FAILURE  \n",
       "0   67.70834         1        17155      1  17154     120      1            0  \n",
       "1   67.70834         1        17155      2  17153     120      1            0  \n",
       "2   67.12963         1        17155      3  17152     120      1            0  \n",
       "3   66.84028         1        17155      4  17151     120      1            0  \n",
       "4   66.55093         1        17155      5  17150     120      1            0  \n",
       "\n",
       "[5 rows x 60 columns]"
      ]
     },
     "execution_count": 26,
     "metadata": {},
     "output_type": "execute_result"
    }
   ],
   "source": [
    "waterpump_data.head()"
   ]
  },
  {
   "cell_type": "code",
   "execution_count": 27,
   "metadata": {},
   "outputs": [
    {
     "data": {
      "text/plain": [
       "Index(['Unnamed: 0', 'rtf_id', 'ts_int', 'timestamp', 'sensor_00', 'sensor_01',\n",
       "       'sensor_02', 'sensor_03', 'sensor_04', 'sensor_05', 'sensor_06',\n",
       "       'sensor_07', 'sensor_08', 'sensor_09', 'sensor_10', 'sensor_11',\n",
       "       'sensor_12', 'sensor_13', 'sensor_14', 'sensor_16', 'sensor_17',\n",
       "       'sensor_18', 'sensor_19', 'sensor_20', 'sensor_21', 'sensor_22',\n",
       "       'sensor_23', 'sensor_24', 'sensor_25', 'sensor_26', 'sensor_27',\n",
       "       'sensor_28', 'sensor_29', 'sensor_30', 'sensor_31', 'sensor_32',\n",
       "       'sensor_33', 'sensor_34', 'sensor_35', 'sensor_36', 'sensor_37',\n",
       "       'sensor_38', 'sensor_39', 'sensor_40', 'sensor_41', 'sensor_42',\n",
       "       'sensor_43', 'sensor_44', 'sensor_45', 'sensor_46', 'sensor_47',\n",
       "       'sensor_48', 'sensor_49', 'slice_id', 'cnt_per_rtf', 'cycle', 'RUL',\n",
       "       'RUL_pw', 'phase', 'IMM_FAILURE'],\n",
       "      dtype='object')"
      ]
     },
     "execution_count": 27,
     "metadata": {},
     "output_type": "execute_result"
    }
   ],
   "source": [
    "waterpump_data.columns\n",
    "# What are the following columns: \n",
    "# ts_int = \n",
    "# slice_id = \n",
    "# phase = \n",
    "# Imm_failure = "
   ]
  },
  {
   "cell_type": "code",
   "execution_count": 28,
   "metadata": {},
   "outputs": [],
   "source": [
    "columns_to_drop = ['Unnamed: 0', 'timestamp', 'IMM_FAILURE', 'slice_id', 'cnt_per_rtf', 'IMM_FAILURE', 'ts_int', 'phase']\n",
    "waterpump_data= waterpump_data.drop(columns_to_drop, axis=1) \n"
   ]
  },
  {
   "cell_type": "code",
   "execution_count": 30,
   "metadata": {},
   "outputs": [
    {
     "data": {
      "text/plain": [
       "array([1, 2, 4, 5, 6, 7], dtype=int64)"
      ]
     },
     "execution_count": 30,
     "metadata": {},
     "output_type": "execute_result"
    }
   ],
   "source": [
    "rtf_ids = waterpump_data['rtf_id'].unique()"
   ]
  },
  {
   "cell_type": "code",
   "execution_count": 23,
   "metadata": {},
   "outputs": [],
   "source": [
    "train_data = waterpump_data.loc[waterpump_data['rtf_id'].isin(list(rtf_ids[:5]))]"
   ]
  },
  {
   "cell_type": "code",
   "execution_count": null,
   "metadata": {},
   "outputs": [],
   "source": []
  }
 ],
 "metadata": {
  "kernelspec": {
   "display_name": "Python 3.10.5 64-bit",
   "language": "python",
   "name": "python3"
  },
  "language_info": {
   "codemirror_mode": {
    "name": "ipython",
    "version": 3
   },
   "file_extension": ".py",
   "mimetype": "text/x-python",
   "name": "python",
   "nbconvert_exporter": "python",
   "pygments_lexer": "ipython3",
   "version": "3.10.5"
  },
  "orig_nbformat": 4,
  "vscode": {
   "interpreter": {
    "hash": "de6709928cf2e8855f0ca4b57bbca8fbec23aa7e1023fb55e3401e919c59305b"
   }
  }
 },
 "nbformat": 4,
 "nbformat_minor": 2
}

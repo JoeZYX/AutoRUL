{
 "cells": [
  {
   "cell_type": "markdown",
   "metadata": {},
   "source": [
    "This jupyternotebook basically contains the original version of the code which Zhou et al. provided (Just the evaluation process was packed in a function)"
   ]
  },
  {
   "cell_type": "markdown",
   "metadata": {},
   "source": [
    "# import packages"
   ]
  },
  {
   "cell_type": "code",
   "execution_count": 1,
   "metadata": {},
   "outputs": [],
   "source": [
    "import warnings \n",
    "warnings.filterwarnings(\"ignore\")\n",
    "import pandas as pd\n",
    "import matplotlib.pyplot as plt\n",
    "import numpy as np\n",
    "import tensorflow as tf\n",
    "import time\n",
    "from utilities import *\n",
    "from sklearn.metrics import mean_squared_error\n",
    "import os\n",
    "from datetime import datetime\n"
   ]
  },
  {
   "cell_type": "code",
   "execution_count": 2,
   "metadata": {},
   "outputs": [],
   "source": [
    "pd.set_option(\"display.max_rows\", 1000)\n",
    "pd.set_option('display.max_rows',300)\n",
    "pd.set_option('display.float_format', lambda x: '%.5f' % x)\n",
    "load_optimzed_model = False"
   ]
  },
  {
   "cell_type": "markdown",
   "metadata": {},
   "source": [
    "# DATA PREPARATION\n",
    "## Load the training data and test data"
   ]
  },
  {
   "cell_type": "code",
   "execution_count": 32,
   "metadata": {},
   "outputs": [],
   "source": [
    "\n",
    "column_name = ['engine_id', 'cycle', 'setting1', 'setting2', 'setting3', 's1', 's2', 's3',\n",
    "               's4', 's5', 's6', 's7', 's8', 's9', 's10', 's11', 's12', 's13', 's14',\n",
    "               's15', 's16', 's17', 's18', 's19', 's20', 's21']\n",
    "\n",
    "Data_id = \"FD002\"\n",
    "\n",
    "train_FD = pd.read_table(\"./CMAPSSData/train_{}.txt\".format(Data_id), header=None, delim_whitespace=True)\n",
    "train_FD.columns = column_name\n",
    "\n",
    "\n",
    "test_FD = pd.read_table(\"./CMAPSSData/test_{}.txt\".format(Data_id), header=None, delim_whitespace=True)\n",
    "test_FD.columns = column_name\n",
    "\n",
    "RUL_FD = pd.read_table(\"./CMAPSSData/RUL_{}.txt\".format(Data_id), header=None, delim_whitespace=True)"
   ]
  },
  {
   "cell_type": "code",
   "execution_count": 33,
   "metadata": {},
   "outputs": [
    {
     "data": {
      "text/html": [
       "<div>\n",
       "<style scoped>\n",
       "    .dataframe tbody tr th:only-of-type {\n",
       "        vertical-align: middle;\n",
       "    }\n",
       "\n",
       "    .dataframe tbody tr th {\n",
       "        vertical-align: top;\n",
       "    }\n",
       "\n",
       "    .dataframe thead th {\n",
       "        text-align: right;\n",
       "    }\n",
       "</style>\n",
       "<table border=\"1\" class=\"dataframe\">\n",
       "  <thead>\n",
       "    <tr style=\"text-align: right;\">\n",
       "      <th></th>\n",
       "      <th>engine_id</th>\n",
       "      <th>cycle</th>\n",
       "      <th>setting1</th>\n",
       "      <th>setting2</th>\n",
       "      <th>setting3</th>\n",
       "      <th>s1</th>\n",
       "      <th>s2</th>\n",
       "      <th>s3</th>\n",
       "      <th>s4</th>\n",
       "      <th>s5</th>\n",
       "      <th>...</th>\n",
       "      <th>s12</th>\n",
       "      <th>s13</th>\n",
       "      <th>s14</th>\n",
       "      <th>s15</th>\n",
       "      <th>s16</th>\n",
       "      <th>s17</th>\n",
       "      <th>s18</th>\n",
       "      <th>s19</th>\n",
       "      <th>s20</th>\n",
       "      <th>s21</th>\n",
       "    </tr>\n",
       "  </thead>\n",
       "  <tbody>\n",
       "    <tr>\n",
       "      <th>0</th>\n",
       "      <td>1</td>\n",
       "      <td>1</td>\n",
       "      <td>34.99830</td>\n",
       "      <td>0.84000</td>\n",
       "      <td>100.00000</td>\n",
       "      <td>449.44000</td>\n",
       "      <td>555.32000</td>\n",
       "      <td>1358.61000</td>\n",
       "      <td>1137.23000</td>\n",
       "      <td>5.48000</td>\n",
       "      <td>...</td>\n",
       "      <td>183.06000</td>\n",
       "      <td>2387.72000</td>\n",
       "      <td>8048.56000</td>\n",
       "      <td>9.34610</td>\n",
       "      <td>0.02000</td>\n",
       "      <td>334</td>\n",
       "      <td>2223</td>\n",
       "      <td>100.00000</td>\n",
       "      <td>14.73000</td>\n",
       "      <td>8.80710</td>\n",
       "    </tr>\n",
       "    <tr>\n",
       "      <th>1</th>\n",
       "      <td>1</td>\n",
       "      <td>2</td>\n",
       "      <td>41.99820</td>\n",
       "      <td>0.84080</td>\n",
       "      <td>100.00000</td>\n",
       "      <td>445.00000</td>\n",
       "      <td>549.90000</td>\n",
       "      <td>1353.22000</td>\n",
       "      <td>1125.78000</td>\n",
       "      <td>3.91000</td>\n",
       "      <td>...</td>\n",
       "      <td>130.42000</td>\n",
       "      <td>2387.66000</td>\n",
       "      <td>8072.30000</td>\n",
       "      <td>9.37740</td>\n",
       "      <td>0.02000</td>\n",
       "      <td>330</td>\n",
       "      <td>2212</td>\n",
       "      <td>100.00000</td>\n",
       "      <td>10.41000</td>\n",
       "      <td>6.26650</td>\n",
       "    </tr>\n",
       "    <tr>\n",
       "      <th>2</th>\n",
       "      <td>1</td>\n",
       "      <td>3</td>\n",
       "      <td>24.99880</td>\n",
       "      <td>0.62180</td>\n",
       "      <td>60.00000</td>\n",
       "      <td>462.54000</td>\n",
       "      <td>537.31000</td>\n",
       "      <td>1256.76000</td>\n",
       "      <td>1047.45000</td>\n",
       "      <td>7.05000</td>\n",
       "      <td>...</td>\n",
       "      <td>164.22000</td>\n",
       "      <td>2028.03000</td>\n",
       "      <td>7864.87000</td>\n",
       "      <td>10.89410</td>\n",
       "      <td>0.02000</td>\n",
       "      <td>309</td>\n",
       "      <td>1915</td>\n",
       "      <td>84.93000</td>\n",
       "      <td>14.08000</td>\n",
       "      <td>8.67230</td>\n",
       "    </tr>\n",
       "    <tr>\n",
       "      <th>3</th>\n",
       "      <td>1</td>\n",
       "      <td>4</td>\n",
       "      <td>42.00770</td>\n",
       "      <td>0.84160</td>\n",
       "      <td>100.00000</td>\n",
       "      <td>445.00000</td>\n",
       "      <td>549.51000</td>\n",
       "      <td>1354.03000</td>\n",
       "      <td>1126.38000</td>\n",
       "      <td>3.91000</td>\n",
       "      <td>...</td>\n",
       "      <td>130.72000</td>\n",
       "      <td>2387.61000</td>\n",
       "      <td>8068.66000</td>\n",
       "      <td>9.35280</td>\n",
       "      <td>0.02000</td>\n",
       "      <td>329</td>\n",
       "      <td>2212</td>\n",
       "      <td>100.00000</td>\n",
       "      <td>10.59000</td>\n",
       "      <td>6.47010</td>\n",
       "    </tr>\n",
       "    <tr>\n",
       "      <th>4</th>\n",
       "      <td>1</td>\n",
       "      <td>5</td>\n",
       "      <td>25.00050</td>\n",
       "      <td>0.62030</td>\n",
       "      <td>60.00000</td>\n",
       "      <td>462.54000</td>\n",
       "      <td>537.07000</td>\n",
       "      <td>1257.71000</td>\n",
       "      <td>1047.93000</td>\n",
       "      <td>7.05000</td>\n",
       "      <td>...</td>\n",
       "      <td>164.31000</td>\n",
       "      <td>2028.00000</td>\n",
       "      <td>7861.23000</td>\n",
       "      <td>10.89630</td>\n",
       "      <td>0.02000</td>\n",
       "      <td>309</td>\n",
       "      <td>1915</td>\n",
       "      <td>84.93000</td>\n",
       "      <td>14.13000</td>\n",
       "      <td>8.52860</td>\n",
       "    </tr>\n",
       "  </tbody>\n",
       "</table>\n",
       "<p>5 rows × 26 columns</p>\n",
       "</div>"
      ],
      "text/plain": [
       "   engine_id  cycle  setting1  setting2  setting3        s1        s2  \\\n",
       "0          1      1  34.99830   0.84000 100.00000 449.44000 555.32000   \n",
       "1          1      2  41.99820   0.84080 100.00000 445.00000 549.90000   \n",
       "2          1      3  24.99880   0.62180  60.00000 462.54000 537.31000   \n",
       "3          1      4  42.00770   0.84160 100.00000 445.00000 549.51000   \n",
       "4          1      5  25.00050   0.62030  60.00000 462.54000 537.07000   \n",
       "\n",
       "          s3         s4      s5  ...       s12        s13        s14      s15  \\\n",
       "0 1358.61000 1137.23000 5.48000  ... 183.06000 2387.72000 8048.56000  9.34610   \n",
       "1 1353.22000 1125.78000 3.91000  ... 130.42000 2387.66000 8072.30000  9.37740   \n",
       "2 1256.76000 1047.45000 7.05000  ... 164.22000 2028.03000 7864.87000 10.89410   \n",
       "3 1354.03000 1126.38000 3.91000  ... 130.72000 2387.61000 8068.66000  9.35280   \n",
       "4 1257.71000 1047.93000 7.05000  ... 164.31000 2028.00000 7861.23000 10.89630   \n",
       "\n",
       "      s16  s17   s18       s19      s20     s21  \n",
       "0 0.02000  334  2223 100.00000 14.73000 8.80710  \n",
       "1 0.02000  330  2212 100.00000 10.41000 6.26650  \n",
       "2 0.02000  309  1915  84.93000 14.08000 8.67230  \n",
       "3 0.02000  329  2212 100.00000 10.59000 6.47010  \n",
       "4 0.02000  309  1915  84.93000 14.13000 8.52860  \n",
       "\n",
       "[5 rows x 26 columns]"
      ]
     },
     "execution_count": 33,
     "metadata": {},
     "output_type": "execute_result"
    }
   ],
   "source": [
    "train_FD.head()"
   ]
  },
  {
   "cell_type": "markdown",
   "metadata": {},
   "source": [
    "# Compute the remaining useful life"
   ]
  },
  {
   "cell_type": "markdown",
   "metadata": {},
   "source": [
    "### RUL for Training dataset"
   ]
  },
  {
   "cell_type": "markdown",
   "metadata": {},
   "source": [
    "Here, we use the piecewise linear degradation model as the target function in the estimation process. \n",
    "The degradation of the system typically starts after a certain degree of usage, and hence, we consider this model to be more suited compared to the linear degradation model. [1](https://arxiv.org/abs/1810.05644)\n",
    "![title](images/piecewise.png)"
   ]
  },
  {
   "cell_type": "code",
   "execution_count": 34,
   "metadata": {},
   "outputs": [],
   "source": [
    "id='engine_id'\n",
    "MAXLIFE = 120 # or 125 , 130\n",
    "# piecewise linear RUL \n",
    "rul = [] \n",
    "for _id in set(train_FD[id]):\n",
    "    trainFD_of_one_id =  train_FD[train_FD[id] == _id]\n",
    "    cycle_list = trainFD_of_one_id['cycle'].tolist()\n",
    "    max_cycle = max(cycle_list)\n",
    "\n",
    "    knee_point = max_cycle - MAXLIFE\n",
    "    kink_RUL = []\n",
    "    for i in range(0, len(cycle_list)):\n",
    "        # \n",
    "        if i < knee_point:\n",
    "            kink_RUL.append(MAXLIFE)\n",
    "        else:\n",
    "            tmp = max_cycle-i-1\n",
    "            kink_RUL.append(tmp)\n",
    "    rul.extend(kink_RUL)\n",
    "\n",
    "train_FD[\"RUL_pw\"] = rul"
   ]
  },
  {
   "cell_type": "markdown",
   "metadata": {},
   "source": [
    "### RUL for test dataset"
   ]
  },
  {
   "cell_type": "code",
   "execution_count": 35,
   "metadata": {},
   "outputs": [],
   "source": [
    "id='engine_id'\n",
    "rul = []\n",
    "for _id_test in set(test_FD[id]):\n",
    "    true_rul = int(RUL_FD.iloc[_id_test - 1])\n",
    "    testFD_of_one_id =  test_FD[test_FD[id] == _id_test]\n",
    "    cycle_list = testFD_of_one_id['cycle'].tolist()\n",
    "    max_cycle = max(cycle_list) + true_rul\n",
    "    knee_point = max_cycle - MAXLIFE\n",
    "    kink_RUL = []\n",
    "    for i in range(0, len(cycle_list)):\n",
    "        if i < knee_point:\n",
    "            kink_RUL.append(MAXLIFE)\n",
    "        else:\n",
    "            tmp = max_cycle-i-1\n",
    "            kink_RUL.append(tmp)    \n",
    "\n",
    "    rul.extend(kink_RUL)\n",
    "\n",
    "test_FD[\"RUL_pw\"] = rul"
   ]
  },
  {
   "cell_type": "markdown",
   "metadata": {},
   "source": [
    "# Debugging the worse results of the pipeline in comparison to original version"
   ]
  },
  {
   "cell_type": "code",
   "execution_count": 38,
   "metadata": {},
   "outputs": [],
   "source": [
    "from rul import RemainingUsefulLife\n"
   ]
  },
  {
   "cell_type": "code",
   "execution_count": 40,
   "metadata": {},
   "outputs": [],
   "source": [
    "test  = RemainingUsefulLife(train_FD, test_FD, test_rul_per_rtf_id = RUL_FD, max_life=120,  epochs = 30, data_id = Data_id, rtf_id = \"engine_id\", path_to_trained_model=r\"C:\\Users\\I539001\\OneDrive - SAP SE\\PA2\\AL\\AutoRUL\\logs\\FD002_2022_10_12_11_18_34\\ep022-loss267.006-val_loss312.779.h5\")"
   ]
  },
  {
   "cell_type": "code",
   "execution_count": 41,
   "metadata": {},
   "outputs": [],
   "source": [
    "train_df, test_df = test.compute_piecewise_linear_rul()"
   ]
  },
  {
   "cell_type": "code",
   "execution_count": 44,
   "metadata": {},
   "outputs": [
    {
     "data": {
      "text/html": [
       "<div>\n",
       "<style scoped>\n",
       "    .dataframe tbody tr th:only-of-type {\n",
       "        vertical-align: middle;\n",
       "    }\n",
       "\n",
       "    .dataframe tbody tr th {\n",
       "        vertical-align: top;\n",
       "    }\n",
       "\n",
       "    .dataframe thead th {\n",
       "        text-align: right;\n",
       "    }\n",
       "</style>\n",
       "<table border=\"1\" class=\"dataframe\">\n",
       "  <thead>\n",
       "    <tr style=\"text-align: right;\">\n",
       "      <th></th>\n",
       "      <th>engine_id</th>\n",
       "      <th>cycle</th>\n",
       "      <th>setting1</th>\n",
       "      <th>setting2</th>\n",
       "      <th>setting3</th>\n",
       "      <th>s1</th>\n",
       "      <th>s2</th>\n",
       "      <th>s3</th>\n",
       "      <th>s4</th>\n",
       "      <th>s5</th>\n",
       "      <th>...</th>\n",
       "      <th>s13</th>\n",
       "      <th>s14</th>\n",
       "      <th>s15</th>\n",
       "      <th>s16</th>\n",
       "      <th>s17</th>\n",
       "      <th>s18</th>\n",
       "      <th>s19</th>\n",
       "      <th>s20</th>\n",
       "      <th>s21</th>\n",
       "      <th>RUL_pw</th>\n",
       "    </tr>\n",
       "  </thead>\n",
       "  <tbody>\n",
       "    <tr>\n",
       "      <th>count</th>\n",
       "      <td>53759.00000</td>\n",
       "      <td>53759.00000</td>\n",
       "      <td>53759.00000</td>\n",
       "      <td>53759.00000</td>\n",
       "      <td>53759.00000</td>\n",
       "      <td>53759.00000</td>\n",
       "      <td>53759.00000</td>\n",
       "      <td>53759.00000</td>\n",
       "      <td>53759.00000</td>\n",
       "      <td>53759.00000</td>\n",
       "      <td>...</td>\n",
       "      <td>53759.00000</td>\n",
       "      <td>53759.00000</td>\n",
       "      <td>53759.00000</td>\n",
       "      <td>53759.00000</td>\n",
       "      <td>53759.00000</td>\n",
       "      <td>53759.00000</td>\n",
       "      <td>53759.00000</td>\n",
       "      <td>53759.00000</td>\n",
       "      <td>53759.00000</td>\n",
       "      <td>53759.00000</td>\n",
       "    </tr>\n",
       "    <tr>\n",
       "      <th>mean</th>\n",
       "      <td>131.08298</td>\n",
       "      <td>109.15475</td>\n",
       "      <td>23.99841</td>\n",
       "      <td>0.57206</td>\n",
       "      <td>94.04602</td>\n",
       "      <td>472.91021</td>\n",
       "      <td>579.67240</td>\n",
       "      <td>1419.97101</td>\n",
       "      <td>1205.44202</td>\n",
       "      <td>8.03199</td>\n",
       "      <td>...</td>\n",
       "      <td>2334.55725</td>\n",
       "      <td>8066.59768</td>\n",
       "      <td>9.32965</td>\n",
       "      <td>0.02333</td>\n",
       "      <td>348.30951</td>\n",
       "      <td>2228.80636</td>\n",
       "      <td>97.75684</td>\n",
       "      <td>20.78930</td>\n",
       "      <td>12.47342</td>\n",
       "      <td>84.88774</td>\n",
       "    </tr>\n",
       "    <tr>\n",
       "      <th>std</th>\n",
       "      <td>74.46386</td>\n",
       "      <td>69.18057</td>\n",
       "      <td>14.74738</td>\n",
       "      <td>0.31002</td>\n",
       "      <td>14.23773</td>\n",
       "      <td>26.38971</td>\n",
       "      <td>37.28940</td>\n",
       "      <td>105.94634</td>\n",
       "      <td>119.12343</td>\n",
       "      <td>3.61384</td>\n",
       "      <td>...</td>\n",
       "      <td>128.06827</td>\n",
       "      <td>84.83795</td>\n",
       "      <td>0.74934</td>\n",
       "      <td>0.00471</td>\n",
       "      <td>27.75452</td>\n",
       "      <td>145.32798</td>\n",
       "      <td>5.36407</td>\n",
       "      <td>9.86933</td>\n",
       "      <td>5.92162</td>\n",
       "      <td>39.84776</td>\n",
       "    </tr>\n",
       "    <tr>\n",
       "      <th>min</th>\n",
       "      <td>1.00000</td>\n",
       "      <td>1.00000</td>\n",
       "      <td>0.00000</td>\n",
       "      <td>0.00000</td>\n",
       "      <td>60.00000</td>\n",
       "      <td>445.00000</td>\n",
       "      <td>535.53000</td>\n",
       "      <td>1243.73000</td>\n",
       "      <td>1023.77000</td>\n",
       "      <td>3.91000</td>\n",
       "      <td>...</td>\n",
       "      <td>2027.61000</td>\n",
       "      <td>7848.36000</td>\n",
       "      <td>8.33570</td>\n",
       "      <td>0.02000</td>\n",
       "      <td>303.00000</td>\n",
       "      <td>1915.00000</td>\n",
       "      <td>84.93000</td>\n",
       "      <td>10.18000</td>\n",
       "      <td>6.01050</td>\n",
       "      <td>0.00000</td>\n",
       "    </tr>\n",
       "    <tr>\n",
       "      <th>25%</th>\n",
       "      <td>68.00000</td>\n",
       "      <td>52.00000</td>\n",
       "      <td>10.00460</td>\n",
       "      <td>0.25070</td>\n",
       "      <td>100.00000</td>\n",
       "      <td>445.00000</td>\n",
       "      <td>549.57000</td>\n",
       "      <td>1352.76000</td>\n",
       "      <td>1123.65500</td>\n",
       "      <td>3.91000</td>\n",
       "      <td>...</td>\n",
       "      <td>2387.90000</td>\n",
       "      <td>8062.14000</td>\n",
       "      <td>8.67780</td>\n",
       "      <td>0.02000</td>\n",
       "      <td>331.00000</td>\n",
       "      <td>2212.00000</td>\n",
       "      <td>100.00000</td>\n",
       "      <td>10.91000</td>\n",
       "      <td>6.54630</td>\n",
       "      <td>51.00000</td>\n",
       "    </tr>\n",
       "    <tr>\n",
       "      <th>50%</th>\n",
       "      <td>131.00000</td>\n",
       "      <td>104.00000</td>\n",
       "      <td>25.00130</td>\n",
       "      <td>0.70000</td>\n",
       "      <td>100.00000</td>\n",
       "      <td>462.54000</td>\n",
       "      <td>555.98000</td>\n",
       "      <td>1369.18000</td>\n",
       "      <td>1138.89000</td>\n",
       "      <td>7.05000</td>\n",
       "      <td>...</td>\n",
       "      <td>2388.08000</td>\n",
       "      <td>8082.54000</td>\n",
       "      <td>9.31090</td>\n",
       "      <td>0.02000</td>\n",
       "      <td>335.00000</td>\n",
       "      <td>2223.00000</td>\n",
       "      <td>100.00000</td>\n",
       "      <td>14.88000</td>\n",
       "      <td>8.92920</td>\n",
       "      <td>103.00000</td>\n",
       "    </tr>\n",
       "    <tr>\n",
       "      <th>75%</th>\n",
       "      <td>195.00000</td>\n",
       "      <td>157.00000</td>\n",
       "      <td>41.99800</td>\n",
       "      <td>0.84000</td>\n",
       "      <td>100.00000</td>\n",
       "      <td>491.19000</td>\n",
       "      <td>607.34000</td>\n",
       "      <td>1499.37000</td>\n",
       "      <td>1306.85000</td>\n",
       "      <td>10.52000</td>\n",
       "      <td>...</td>\n",
       "      <td>2388.17000</td>\n",
       "      <td>8127.19500</td>\n",
       "      <td>9.38690</td>\n",
       "      <td>0.03000</td>\n",
       "      <td>369.00000</td>\n",
       "      <td>2324.00000</td>\n",
       "      <td>100.00000</td>\n",
       "      <td>28.47000</td>\n",
       "      <td>17.08320</td>\n",
       "      <td>120.00000</td>\n",
       "    </tr>\n",
       "    <tr>\n",
       "      <th>max</th>\n",
       "      <td>260.00000</td>\n",
       "      <td>378.00000</td>\n",
       "      <td>42.00800</td>\n",
       "      <td>0.84200</td>\n",
       "      <td>100.00000</td>\n",
       "      <td>518.67000</td>\n",
       "      <td>644.52000</td>\n",
       "      <td>1612.88000</td>\n",
       "      <td>1439.23000</td>\n",
       "      <td>14.62000</td>\n",
       "      <td>...</td>\n",
       "      <td>2390.48000</td>\n",
       "      <td>8268.50000</td>\n",
       "      <td>11.06690</td>\n",
       "      <td>0.03000</td>\n",
       "      <td>399.00000</td>\n",
       "      <td>2388.00000</td>\n",
       "      <td>100.00000</td>\n",
       "      <td>39.34000</td>\n",
       "      <td>23.59010</td>\n",
       "      <td>120.00000</td>\n",
       "    </tr>\n",
       "  </tbody>\n",
       "</table>\n",
       "<p>8 rows × 27 columns</p>\n",
       "</div>"
      ],
      "text/plain": [
       "        engine_id       cycle    setting1    setting2    setting3          s1  \\\n",
       "count 53759.00000 53759.00000 53759.00000 53759.00000 53759.00000 53759.00000   \n",
       "mean    131.08298   109.15475    23.99841     0.57206    94.04602   472.91021   \n",
       "std      74.46386    69.18057    14.74738     0.31002    14.23773    26.38971   \n",
       "min       1.00000     1.00000     0.00000     0.00000    60.00000   445.00000   \n",
       "25%      68.00000    52.00000    10.00460     0.25070   100.00000   445.00000   \n",
       "50%     131.00000   104.00000    25.00130     0.70000   100.00000   462.54000   \n",
       "75%     195.00000   157.00000    41.99800     0.84000   100.00000   491.19000   \n",
       "max     260.00000   378.00000    42.00800     0.84200   100.00000   518.67000   \n",
       "\n",
       "               s2          s3          s4          s5  ...         s13  \\\n",
       "count 53759.00000 53759.00000 53759.00000 53759.00000  ... 53759.00000   \n",
       "mean    579.67240  1419.97101  1205.44202     8.03199  ...  2334.55725   \n",
       "std      37.28940   105.94634   119.12343     3.61384  ...   128.06827   \n",
       "min     535.53000  1243.73000  1023.77000     3.91000  ...  2027.61000   \n",
       "25%     549.57000  1352.76000  1123.65500     3.91000  ...  2387.90000   \n",
       "50%     555.98000  1369.18000  1138.89000     7.05000  ...  2388.08000   \n",
       "75%     607.34000  1499.37000  1306.85000    10.52000  ...  2388.17000   \n",
       "max     644.52000  1612.88000  1439.23000    14.62000  ...  2390.48000   \n",
       "\n",
       "              s14         s15         s16         s17         s18         s19  \\\n",
       "count 53759.00000 53759.00000 53759.00000 53759.00000 53759.00000 53759.00000   \n",
       "mean   8066.59768     9.32965     0.02333   348.30951  2228.80636    97.75684   \n",
       "std      84.83795     0.74934     0.00471    27.75452   145.32798     5.36407   \n",
       "min    7848.36000     8.33570     0.02000   303.00000  1915.00000    84.93000   \n",
       "25%    8062.14000     8.67780     0.02000   331.00000  2212.00000   100.00000   \n",
       "50%    8082.54000     9.31090     0.02000   335.00000  2223.00000   100.00000   \n",
       "75%    8127.19500     9.38690     0.03000   369.00000  2324.00000   100.00000   \n",
       "max    8268.50000    11.06690     0.03000   399.00000  2388.00000   100.00000   \n",
       "\n",
       "              s20         s21      RUL_pw  \n",
       "count 53759.00000 53759.00000 53759.00000  \n",
       "mean     20.78930    12.47342    84.88774  \n",
       "std       9.86933     5.92162    39.84776  \n",
       "min      10.18000     6.01050     0.00000  \n",
       "25%      10.91000     6.54630    51.00000  \n",
       "50%      14.88000     8.92920   103.00000  \n",
       "75%      28.47000    17.08320   120.00000  \n",
       "max      39.34000    23.59010   120.00000  \n",
       "\n",
       "[8 rows x 27 columns]"
      ]
     },
     "execution_count": 44,
     "metadata": {},
     "output_type": "execute_result"
    }
   ],
   "source": [
    "train_df.describe()"
   ]
  },
  {
   "cell_type": "code",
   "execution_count": 46,
   "metadata": {},
   "outputs": [
    {
     "data": {
      "text/plain": [
       "True"
      ]
     },
     "execution_count": 46,
     "metadata": {},
     "output_type": "execute_result"
    }
   ],
   "source": [
    "train_FD.describe().equals(train_df.describe())"
   ]
  },
  {
   "cell_type": "code",
   "execution_count": 71,
   "metadata": {},
   "outputs": [
    {
     "data": {
      "text/plain": [
       "[<matplotlib.lines.Line2D at 0x260abd3f1c8>]"
      ]
     },
     "execution_count": 71,
     "metadata": {},
     "output_type": "execute_result"
    },
    {
     "data": {
      "image/png": "[encoded data removed]",
      "text/plain": [
       "<Figure size 640x480 with 1 Axes>"
      ]
     },
     "metadata": {},
     "output_type": "display_data"
    }
   ],
   "source": [
    "diff = np.where(test_df[\"RUL_pw\"] != (test_FD[\"RUL_pw\"]))\n",
    "# np.where((df['Column1'] <= df['Column2']) & (\n",
    "#     df['Column1'] <= df['Column3']), df['Column1'], np.nan)\n",
    "# [i for i in test_df[\"RUL_pw\"] == test_FD[\"RUL_pw\"] if i == False]\n",
    "\n",
    "plt.plot(test_df[\"RUL_pw\"][:1000])\n",
    "plt.plot(test_FD[\"RUL_pw\"][:1000])"
   ]
  },
  {
   "cell_type": "code",
   "execution_count": 69,
   "metadata": {},
   "outputs": [
    {
     "data": {
      "text/html": [
       "<div>\n",
       "<style scoped>\n",
       "    .dataframe tbody tr th:only-of-type {\n",
       "        vertical-align: middle;\n",
       "    }\n",
       "\n",
       "    .dataframe tbody tr th {\n",
       "        vertical-align: top;\n",
       "    }\n",
       "\n",
       "    .dataframe thead th {\n",
       "        text-align: right;\n",
       "    }\n",
       "</style>\n",
       "<table border=\"1\" class=\"dataframe\">\n",
       "  <thead>\n",
       "    <tr style=\"text-align: right;\">\n",
       "      <th></th>\n",
       "      <th>0</th>\n",
       "    </tr>\n",
       "  </thead>\n",
       "  <tbody>\n",
       "    <tr>\n",
       "      <th>0</th>\n",
       "      <td>18</td>\n",
       "    </tr>\n",
       "    <tr>\n",
       "      <th>1</th>\n",
       "      <td>79</td>\n",
       "    </tr>\n",
       "    <tr>\n",
       "      <th>2</th>\n",
       "      <td>106</td>\n",
       "    </tr>\n",
       "    <tr>\n",
       "      <th>3</th>\n",
       "      <td>110</td>\n",
       "    </tr>\n",
       "    <tr>\n",
       "      <th>4</th>\n",
       "      <td>15</td>\n",
       "    </tr>\n",
       "    <tr>\n",
       "      <th>5</th>\n",
       "      <td>155</td>\n",
       "    </tr>\n",
       "    <tr>\n",
       "      <th>6</th>\n",
       "      <td>6</td>\n",
       "    </tr>\n",
       "    <tr>\n",
       "      <th>7</th>\n",
       "      <td>90</td>\n",
       "    </tr>\n",
       "  </tbody>\n",
       "</table>\n",
       "</div>"
      ],
      "text/plain": [
       "     0\n",
       "0   18\n",
       "1   79\n",
       "2  106\n",
       "3  110\n",
       "4   15\n",
       "5  155\n",
       "6    6\n",
       "7   90"
      ]
     },
     "execution_count": 69,
     "metadata": {},
     "output_type": "execute_result"
    }
   ],
   "source": [
    "RUL_FD.head(8)"
   ]
  },
  {
   "cell_type": "markdown",
   "metadata": {},
   "source": [
    "# Feature extention\n",
    "\n",
    "    Remove features that have only unique value\n",
    "    \n",
    "    Use correlation test methods (Significance test) to exclude features that are not related to the target variable"
   ]
  },
  {
   "cell_type": "code",
   "execution_count": 12,
   "metadata": {},
   "outputs": [],
   "source": [
    "col_to_drop = identify_and_remove_unique_columns(train_FD, rtf_id = \"engine_id\")"
   ]
  },
  {
   "cell_type": "code",
   "execution_count": 13,
   "metadata": {},
   "outputs": [],
   "source": [
    "train_FD = train_FD.drop(col_to_drop,axis = 1)"
   ]
  },
  {
   "cell_type": "code",
   "execution_count": 14,
   "metadata": {},
   "outputs": [],
   "source": [
    "test_FD = test_FD.drop(col_to_drop,axis = 1)"
   ]
  },
  {
   "cell_type": "markdown",
   "metadata": {},
   "source": [
    "## standard normalization "
   ]
  },
  {
   "cell_type": "code",
   "execution_count": 15,
   "metadata": {},
   "outputs": [],
   "source": [
    "mean = train_FD.iloc[:, 2:-1].mean()\n",
    "std = train_FD.iloc[:, 2:-1].std()\n",
    "std.replace(0, 1, inplace=True)\n",
    "\n",
    "\n",
    "# training dataset\n",
    "train_FD.iloc[:, 2:-1] = (train_FD.iloc[:, 2:-1] - mean) / std\n",
    "\n",
    "# Testing dataset\n",
    "test_FD.iloc[:, 2:-1] = (test_FD.iloc[:, 2:-1] - mean) / std"
   ]
  },
  {
   "cell_type": "markdown",
   "metadata": {},
   "source": [
    "### plot a figure"
   ]
  },
  {
   "cell_type": "code",
   "execution_count": 16,
   "metadata": {},
   "outputs": [
    {
     "name": "stdout",
     "output_type": "stream",
     "text": [
      "training (53759, 16) (53759,)\n",
      "testing (33991, 16) (33991,)\n"
     ]
    },
    {
     "data": {
      "image/png": "[encoded data removed]",
      "text/plain": [
       "<Figure size 1500x200 with 1 Axes>"
      ]
     },
     "metadata": {},
     "output_type": "display_data"
    },
    {
     "data": {
      "image/png": "[encoded data removed]",
      "text/plain": [
       "<Figure size 1500x200 with 1 Axes>"
      ]
     },
     "metadata": {},
     "output_type": "display_data"
    },
    {
     "data": {
      "image/png": "[encoded data removed]",
      "text/plain": [
       "<Figure size 1500x200 with 1 Axes>"
      ]
     },
     "metadata": {},
     "output_type": "display_data"
    }
   ],
   "source": [
    "training_data = train_FD.values\n",
    "testing_data = test_FD.values\n",
    "\n",
    "x_train = training_data[:, 2:-1]\n",
    "y_train = training_data[:, -1]\n",
    "print(\"training\", x_train.shape, y_train.shape)\n",
    "\n",
    "x_test = testing_data[:, 2:-1]\n",
    "y_test = testing_data[:, -1]\n",
    "print(\"testing\", x_test.shape, y_test.shape)\n",
    "\n",
    "plt.figure(figsize=(15,2))\n",
    "plt.plot(y_train[:500], label=\"train\")\n",
    "plt.legend()\n",
    "plt.figure(figsize=(15,2))\n",
    "\n",
    "plt.plot(y_test[:500], label=\"test\")\n",
    "plt.legend()\n",
    "plt.figure(figsize=(15,2))\n",
    "plt.plot(x_train[:190])\n",
    "plt.title(\"train: \" + Data_id )\n",
    "\n",
    "plt.show()"
   ]
  },
  {
   "cell_type": "markdown",
   "metadata": {},
   "source": [
    "# Data_Batch generation\n",
    "    \n",
    "Data generation with sliding window method\n",
    "![title](images/sliding.png)\n",
    "sequence_length defines the window movement steps\n",
    "\n",
    "Window size defines the time steps included in the window\n",
    "\n",
    "In the example above, the window size is 4, which is moved by one step"
   ]
  },
  {
   "cell_type": "code",
   "execution_count": 18,
   "metadata": {},
   "outputs": [],
   "source": [
    "sequence_length=5\n",
    "window_size = 16\n",
    "# Prepare the training set according to the  window size and sequence_length\n",
    "x_batch, y_batch =batch_generator(train_FD,sequence_length=sequence_length,window_size = window_size, rtf_id= \"engine_id\")\n",
    "\n",
    "x_batch = np.expand_dims(x_batch, axis=4)\n",
    "y_batch = np.expand_dims(y_batch, axis=1)"
   ]
  },
  {
   "cell_type": "code",
   "execution_count": 19,
   "metadata": {},
   "outputs": [],
   "source": [
    "number_of_sensor = x_batch.shape[-2]"
   ]
  },
  {
   "cell_type": "markdown",
   "metadata": {},
   "source": [
    "# Model"
   ]
  },
  {
   "cell_type": "code",
   "execution_count": 20,
   "metadata": {},
   "outputs": [],
   "source": [
    "from ECLSTM import ECLSTM1D\n",
    "from ECLSTM import check_the_config_valid\n",
    "from ECLSTM import build_the_model\n",
    "\n",
    "\n",
    "from tensorflow.keras.models import Sequential\n",
    "from tensorflow.keras.layers import Dense\n",
    "from tensorflow.keras.layers import Flatten\n",
    "from tensorflow.keras.layers import TimeDistributed\n",
    "from tensorflow.keras.callbacks import TensorBoard, ModelCheckpoint, EarlyStopping, ReduceLROnPlateau"
   ]
  },
  {
   "cell_type": "markdown",
   "metadata": {},
   "source": [
    "    The network below has a naive four-layer architecture.\n",
    "    The first layer is a ECLSTM layer with 10 filters, and the kernel size is 3.\n",
    "    The second layer is a ECLSTM layer with 20 filters, and the kernel size is 3.\n",
    "    The third is forward fully connected layers, with 150 hidden nodes. \n",
    "    The last layer is a 1-dimensional output layer which predicts the RUL. \n",
    "<font color=red>**This  model is not optimized， But it has been able to achieve state of the art results on FD002 and FD004 dataset. \n",
    "And the performance on FD001 and FD002 dataset is also better than the optimized traditional LSTM model.**</font> [[2]](https://ieeexplore.ieee.org/document/7998311) \n",
    "\n",
    "It shows that this new LSTM variant has stronger capabilities than LSTM in dealing with multiple time series problems (with large window size).\n",
    "\n",
    "| Datasets  | FD001  | FD002  | FD003 | FD004  |\n",
    "|-----------|--------|--------|-------|--------|\n",
    "|   MLP   |  37.56 | 80.03  | 37.39 | 77.37  | \n",
    "|   SVR   | 20.96  | 42.00  | 21.05 | 45.35  |\n",
    "|   RVR   | 23.80  | 31.30  | 22.37 | 34.34  | \n",
    "|   CNN   | 18.45  | 30.29  | 19.82  | 29.16 | \n",
    "| Deep LSTM | **16.14** | **24.49**  | **16.18**  | **28.17**  | \n",
    "\n",
    "The RMSE values in this table are used as the baseline for comparison"
   ]
  },
  {
   "cell_type": "code",
   "execution_count": 21,
   "metadata": {},
   "outputs": [],
   "source": [
    "# specify the achtecture parameters\n",
    "para = {\n",
    "    # preprocessing part\n",
    "    \"preprocessing_layers\" : 0,\n",
    "    \"pre_kernel_width\" : 3,\n",
    "    \"pre_number_filters\" : 10,\n",
    "    \"pre_strides\" : 2,\n",
    "    \"pre_activation\" : \"relu\",\n",
    "\n",
    "\n",
    "    # ECLSTM feature extraction part\n",
    "    \"eclstm_1_recurrent_activation\" : ['linear',\"hard_sigmoid\"],\n",
    "    \"eclstm_1_conv_activation\" : ['hard_sigmoid',\"hard_sigmoid\"],\n",
    "    \"eclstm_1_kernel_width\" : [3,3],\n",
    "    \"eclstm_1_number_filters\" : [10,10],\n",
    "    \"eclstm_1_strides\" : 1,\n",
    "    \"eclstm_1_fusion\":[\"early\",\"early\"],\n",
    "    \n",
    "    \"eclstm_2_recurrent_activation\" : ['linear',\"hard_sigmoid\"],\n",
    "    \"eclstm_2_conv_activation\" : ['hard_sigmoid',\"hard_sigmoid\"],\n",
    "    \"eclstm_2_kernel_width\" : [3,3],\n",
    "    \"eclstm_2_number_filters\" : [20,20],\n",
    "    \"eclstm_2_strides\" : 1,\n",
    "    \"eclstm_2_fusion\":[\"early\",\"early\"],\n",
    "\n",
    "    \"eclstm_3_recurrent_activation\" : [None],\n",
    "    \"eclstm_3_conv_activation\" : [None],\n",
    "    \"eclstm_3_kernel_width\" : [None],\n",
    "    \"eclstm_3_number_filters\" : [None],\n",
    "    \"eclstm_3_strides\" : None,\n",
    "    \"eclstm_3_fusion\":[None],\n",
    "\n",
    "    \"eclstm_4_recurrent_activation\" : [None],\n",
    "    \"eclstm_4_conv_activation\" : [None],\n",
    "    \"eclstm_4_kernel_width\" : [None],\n",
    "    \"eclstm_4_number_filters\" : [None],\n",
    "    \"eclstm_4_strides\" : None,\n",
    "    \"eclstm_4_fusion\":[None],\n",
    "\n",
    "    # Prediction\n",
    "    \"prediction_1_filters\" : 150,\n",
    "    \"prediction_1_activation\" : \"relu\",\n",
    "    \n",
    "    \"prediction_2_filters\" : 0,\n",
    "    \"prediction_2_activation\" : None,\n",
    "    \n",
    "    \"prediction_3_filters\" : 0,\n",
    "    \"prediction_3_activation\" : None,\n",
    "    \n",
    "    \"prediction_4_filters\" : 0,\n",
    "    \"prediction_4_activation\" : None,\n",
    "}"
   ]
  },
  {
   "cell_type": "code",
   "execution_count": 22,
   "metadata": {},
   "outputs": [
    {
     "name": "stdout",
     "output_type": "stream",
     "text": [
      "valid Configuration!\n",
      "Model: \"sequential\"\n",
      "_________________________________________________________________\n",
      " Layer (type)                Output Shape              Param #   \n",
      "=================================================================\n",
      " module_wrapper (ModuleWrapp  (None, 5, 12, 1, 10)     5900      \n",
      " er)                                                             \n",
      "                                                                 \n",
      " batch_normalization (BatchN  (None, 5, 12, 1, 10)     40        \n",
      " ormalization)                                                   \n",
      "                                                                 \n",
      " module_wrapper_1 (ModuleWra  (None, 8, 1, 20)         18160     \n",
      " pper)                                                           \n",
      "                                                                 \n",
      " batch_normalization_1 (Batc  (None, 8, 1, 20)         80        \n",
      " hNormalization)                                                 \n",
      "                                                                 \n",
      " flatten (Flatten)           (None, 160)               0         \n",
      "                                                                 \n",
      " dense (Dense)               (None, 150)               24150     \n",
      "                                                                 \n",
      " dense_1 (Dense)             (None, 1)                 151       \n",
      "                                                                 \n",
      "=================================================================\n",
      "Total params: 48,481\n",
      "Trainable params: 48,421\n",
      "Non-trainable params: 60\n",
      "_________________________________________________________________\n",
      "None\n"
     ]
    }
   ],
   "source": [
    "valid = check_the_config_valid(para,window_size,number_of_sensor)\n",
    "if valid:\n",
    "    model = build_the_model(para, sequence_length, window_size, number_of_sensor)\n",
    "else: \n",
    "    print(\"invalid configuration\")\n",
    "input_data = tf.keras.layers.Input(shape=(sequence_length, window_size, number_of_sensor,1))\n",
    "out = model(input_data)\n",
    "print(model.summary())"
   ]
  },
  {
   "cell_type": "markdown",
   "metadata": {},
   "source": [
    "# Train the model"
   ]
  },
  {
   "cell_type": "code",
   "execution_count": 23,
   "metadata": {},
   "outputs": [],
   "source": [
    "dateTimeObj = datetime.now()\n",
    "\n",
    "log_dir = \"logs/{}_{}_{}_{}_{}_{}_{}/\".format(Data_id,\n",
    "                                              dateTimeObj.year,\n",
    "                                              dateTimeObj.month,\n",
    "                                              dateTimeObj.day,\n",
    "                                              dateTimeObj.hour,\n",
    "                                              dateTimeObj.minute,\n",
    "                                              dateTimeObj.second)\n",
    "\n",
    "\n",
    "os.makedirs(log_dir)\n",
    "\n",
    "checkpoint = ModelCheckpoint(log_dir + 'ep{epoch:03d}-loss{loss:.3f}-val_loss{val_loss:.3f}.h5',\n",
    "                             monitor='val_loss', save_weights_only=True, save_best_only=True)\n",
    "reduce_lr = ReduceLROnPlateau(monitor='val_loss', factor=0.3, patience=5, verbose=1)\n",
    "early_stopping = EarlyStopping(monitor='val_loss', min_delta=0, patience=15, verbose=1, mode='auto')"
   ]
  },
  {
   "cell_type": "code",
   "execution_count": 24,
   "metadata": {},
   "outputs": [
    {
     "name": "stdout",
     "output_type": "stream",
     "text": [
      "Epoch 1/30\n",
      "3011/3011 [==============================] - 116s 36ms/step - loss: 610.9388 - val_loss: 563.4653 - lr: 0.0010\n",
      "Epoch 2/30\n",
      "3011/3011 [==============================] - 105s 35ms/step - loss: 459.6971 - val_loss: 575.9474 - lr: 0.0010\n",
      "Epoch 3/30\n",
      "3011/3011 [==============================] - 106s 35ms/step - loss: 433.5574 - val_loss: 414.1045 - lr: 0.0010\n",
      "Epoch 4/30\n",
      "3011/3011 [==============================] - 105s 35ms/step - loss: 419.6831 - val_loss: 560.0696 - lr: 0.0010\n",
      "Epoch 5/30\n",
      "3011/3011 [==============================] - 112s 37ms/step - loss: 399.3629 - val_loss: 389.5499 - lr: 0.0010\n",
      "Epoch 6/30\n",
      "3011/3011 [==============================] - 103s 34ms/step - loss: 382.9509 - val_loss: 420.0948 - lr: 0.0010\n",
      "Epoch 7/30\n",
      "3011/3011 [==============================] - 4683s 2s/step - loss: 370.4778 - val_loss: 391.5283 - lr: 0.0010\n",
      "Epoch 8/30\n",
      "3011/3011 [==============================] - 114s 38ms/step - loss: 358.5466 - val_loss: 392.4547 - lr: 0.0010\n",
      "Epoch 9/30\n",
      "3011/3011 [==============================] - 103s 34ms/step - loss: 349.4308 - val_loss: 408.8392 - lr: 0.0010\n",
      "Epoch 10/30\n",
      "3011/3011 [==============================] - 104s 35ms/step - loss: 344.4664 - val_loss: 381.1783 - lr: 0.0010\n",
      "Epoch 11/30\n",
      "3011/3011 [==============================] - 112s 37ms/step - loss: 339.4224 - val_loss: 434.6487 - lr: 0.0010\n",
      "Epoch 12/30\n",
      "3011/3011 [==============================] - 108s 36ms/step - loss: 332.0627 - val_loss: 327.6707 - lr: 0.0010\n",
      "Epoch 13/30\n",
      "3011/3011 [==============================] - 110s 36ms/step - loss: 327.4171 - val_loss: 321.7119 - lr: 0.0010\n",
      "Epoch 14/30\n",
      "3011/3011 [==============================] - 108s 36ms/step - loss: 325.7245 - val_loss: 327.4662 - lr: 0.0010\n",
      "Epoch 15/30\n",
      "3011/3011 [==============================] - 108s 36ms/step - loss: 319.4506 - val_loss: 366.6464 - lr: 0.0010\n",
      "Epoch 16/30\n",
      "3011/3011 [==============================] - 110s 37ms/step - loss: 317.1590 - val_loss: 350.8527 - lr: 0.0010\n",
      "Epoch 17/30\n",
      "3011/3011 [==============================] - 110s 37ms/step - loss: 312.0763 - val_loss: 388.6066 - lr: 0.0010\n",
      "Epoch 18/30\n",
      "3011/3011 [==============================] - ETA: 0s - loss: 307.1707\n",
      "Epoch 18: ReduceLROnPlateau reducing learning rate to 0.0003000000142492354.\n",
      "3011/3011 [==============================] - 108s 36ms/step - loss: 307.1707 - val_loss: 450.3873 - lr: 0.0010\n",
      "Epoch 19/30\n",
      "3011/3011 [==============================] - 102s 34ms/step - loss: 277.8892 - val_loss: 344.2233 - lr: 3.0000e-04\n",
      "Epoch 20/30\n",
      "3011/3011 [==============================] - 100s 33ms/step - loss: 271.5308 - val_loss: 345.9079 - lr: 3.0000e-04\n",
      "Epoch 21/30\n",
      "3011/3011 [==============================] - 98s 32ms/step - loss: 268.3447 - val_loss: 341.5184 - lr: 3.0000e-04\n",
      "Epoch 22/30\n",
      "3011/3011 [==============================] - 100s 33ms/step - loss: 267.0055 - val_loss: 312.7791 - lr: 3.0000e-04\n",
      "Epoch 23/30\n",
      "3011/3011 [==============================] - 98s 32ms/step - loss: 264.6336 - val_loss: 337.4308 - lr: 3.0000e-04\n",
      "Epoch 24/30\n",
      "3011/3011 [==============================] - 104s 35ms/step - loss: 261.7674 - val_loss: 344.9477 - lr: 3.0000e-04\n",
      "Epoch 25/30\n",
      "3011/3011 [==============================] - 103s 34ms/step - loss: 260.3084 - val_loss: 335.6035 - lr: 3.0000e-04\n",
      "Epoch 26/30\n",
      "3011/3011 [==============================] - 101s 33ms/step - loss: 257.7142 - val_loss: 351.7520 - lr: 3.0000e-04\n",
      "Epoch 27/30\n",
      "3009/3011 [============================>.] - ETA: 0s - loss: 252.4508\n",
      "Epoch 27: ReduceLROnPlateau reducing learning rate to 9.000000427477062e-05.\n",
      "3011/3011 [==============================] - 96s 32ms/step - loss: 252.5708 - val_loss: 325.2346 - lr: 3.0000e-04\n",
      "Epoch 28/30\n",
      "3011/3011 [==============================] - 96s 32ms/step - loss: 241.1627 - val_loss: 339.8250 - lr: 9.0000e-05\n",
      "Epoch 29/30\n",
      "3011/3011 [==============================] - 101s 34ms/step - loss: 238.7985 - val_loss: 313.1814 - lr: 9.0000e-05\n",
      "Epoch 30/30\n",
      "3011/3011 [==============================] - 97s 32ms/step - loss: 236.3890 - val_loss: 320.4211 - lr: 9.0000e-05\n"
     ]
    }
   ],
   "source": [
    "# if you have enough time budget, you can set a large epochs and large patience\n",
    "\n",
    "if load_optimzed_model == False: \n",
    "    model.fit(x_batch,y_batch, \n",
    "            batch_size=15, \n",
    "            epochs=30, \n",
    "            callbacks=[#logging, \n",
    "                        checkpoint, \n",
    "                        reduce_lr, \n",
    "                        early_stopping],\n",
    "            validation_split=0.075)\n",
    "    model.save_weights(log_dir + 'trained_weights_final.h5')"
   ]
  },
  {
   "cell_type": "markdown",
   "metadata": {},
   "source": [
    "# Evaluation"
   ]
  },
  {
   "cell_type": "markdown",
   "metadata": {},
   "source": [
    "## load the best model"
   ]
  },
  {
   "cell_type": "code",
   "execution_count": 30,
   "metadata": {},
   "outputs": [],
   "source": [
    "def evaluate(): \n",
    "\n",
    "    x_batch_test, y_batch_test =  test_batch_generator(test_FD, sequence_length=sequence_length,window_size = window_size, rtf_id= \"engine_id\")\n",
    "    x_batch_test = np.expand_dims(x_batch_test, axis=4)\n",
    "\n",
    "    def performance():\n",
    "\n",
    "        # performance on training dataset\n",
    "        y_batch_pred = model.predict(x_batch)\n",
    "\n",
    "        y_batch_pred = y_batch_pred.reshape(y_batch_pred.shape[0], y_batch_pred.shape[1])\n",
    "        y_batch_reshape = y_batch.reshape(y_batch.shape[0], y_batch.shape[1])\n",
    "        rmse_on_train = np.sqrt(mean_squared_error(y_batch_pred, y_batch_reshape))\n",
    "\n",
    "        print(\"The RMSE on Training dataset {} is {}.\".format(Data_id,rmse_on_train))\n",
    "\n",
    "        # performance on test dataset\n",
    "        y_batch_pred_test = model.predict(x_batch_test)\n",
    "        rmse_on_test = np.sqrt(mean_squared_error(y_batch_pred_test, y_batch_test))\n",
    "        print(\"The RMSE on test dataset {} is {}.\".format(Data_id,rmse_on_test))\n",
    "\n",
    "    if load_optimzed_model == False:\n",
    "        modellist = os.listdir(log_dir)\n",
    "        modellist = [file for file in modellist if \"val_loss\" in file]\n",
    "\n",
    "        model.load_weights(log_dir+modellist[-1])\n",
    "        print(f\"\\n path to the loaded model: {log_dir+modellist[-1]} \\n\")\n",
    "\n",
    "        return performance()\n",
    "        \n",
    "    if load_optimzed_model == True: \n",
    "        print(\"loading optimzed model ...\")\n",
    "        \n",
    "        model_id=4\n",
    "        model_weights = 'trained_models/{}/best_model_{}_{}.h5'.format(Data_id,Data_id,model_id)\n",
    "        if not os.path.exists(model_weights):\n",
    "            print(\"no such a weight file\")\n",
    "        else:\n",
    "            model.load_weights(model_weights)\n",
    "\n",
    "        return performance()\n",
    "            \n",
    "    "
   ]
  },
  {
   "cell_type": "code",
   "execution_count": 31,
   "metadata": {},
   "outputs": [
    {
     "name": "stdout",
     "output_type": "stream",
     "text": [
      "\n",
      " path to the loaded model: logs/FD002_2022_10_12_11_18_34/ep022-loss267.006-val_loss312.779.h5 \n",
      "\n",
      "1526/1526 [==============================] - 10s 7ms/step\n",
      "The RMSE on Training dataset FD002 is 16.136749267578125.\n",
      "9/9 [==============================] - 0s 6ms/step\n",
      "The RMSE on test dataset FD002 is 15.860301971435547.\n"
     ]
    }
   ],
   "source": [
    "evaluate()"
   ]
  },
  {
   "cell_type": "markdown",
   "metadata": {},
   "source": [
    "The following is commented out because the code was packed in the function above"
   ]
  },
  {
   "cell_type": "code",
   "execution_count": 29,
   "metadata": {},
   "outputs": [
    {
     "ename": "NameError",
     "evalue": "name 'modellist' is not defined",
     "output_type": "error",
     "traceback": [
      "\u001b[1;31m---------------------------------------------------------------------------\u001b[0m",
      "\u001b[1;31mNameError\u001b[0m                                 Traceback (most recent call last)",
      "\u001b[1;32m~\\AppData\\Local\\Temp\\ipykernel_6836\\609391687.py\u001b[0m in \u001b[0;36m<module>\u001b[1;34m\u001b[0m\n\u001b[1;32m----> 1\u001b[1;33m \u001b[0mlog_dir\u001b[0m\u001b[1;33m+\u001b[0m\u001b[0mmodellist\u001b[0m\u001b[1;33m[\u001b[0m\u001b[1;33m-\u001b[0m\u001b[1;36m1\u001b[0m\u001b[1;33m]\u001b[0m\u001b[1;33m\u001b[0m\u001b[1;33m\u001b[0m\u001b[0m\n\u001b[0m",
      "\u001b[1;31mNameError\u001b[0m: name 'modellist' is not defined"
     ]
    }
   ],
   "source": [
    "log_dir+modellist[-1]"
   ]
  },
  {
   "cell_type": "code",
   "execution_count": 21,
   "metadata": {},
   "outputs": [],
   "source": [
    "# modellist = os.listdir(log_dir)\n",
    "# modellist = [file for file in modellist if \"val_loss\" in file]"
   ]
  },
  {
   "cell_type": "code",
   "execution_count": 22,
   "metadata": {},
   "outputs": [],
   "source": [
    "# modellist"
   ]
  },
  {
   "cell_type": "code",
   "execution_count": 23,
   "metadata": {},
   "outputs": [],
   "source": [
    "# model.load_weights(log_dir+modellist[-1])"
   ]
  },
  {
   "cell_type": "markdown",
   "metadata": {},
   "source": [
    "##  Performance on training dataset"
   ]
  },
  {
   "cell_type": "code",
   "execution_count": 24,
   "metadata": {},
   "outputs": [],
   "source": [
    "# y_batch_pred = model.predict(x_batch)"
   ]
  },
  {
   "cell_type": "code",
   "execution_count": 25,
   "metadata": {},
   "outputs": [],
   "source": [
    "\n",
    "# y_batch_pred = y_batch_pred.reshape(y_batch_pred.shape[0], y_batch_pred.shape[1])\n",
    "# y_batch_reshape = y_batch.reshape(y_batch.shape[0], y_batch.shape[1])\n",
    "# rmse_on_train = np.sqrt(mean_squared_error(y_batch_pred, y_batch_reshape))\n",
    "\n",
    "# print(\"The RMSE on Training dataset {} is {}.\".format(Data_id,rmse_on_train))"
   ]
  },
  {
   "cell_type": "markdown",
   "metadata": {},
   "source": [
    "##  Performance on test dataset"
   ]
  },
  {
   "cell_type": "code",
   "execution_count": 26,
   "metadata": {},
   "outputs": [],
   "source": [
    "# x_batch_test, y_batch_test =  test_batch_generator(test_FD, sequence_length=sequence_length,window_size = window_size)\n",
    "# x_batch_test = np.expand_dims(x_batch_test, axis=4)"
   ]
  },
  {
   "cell_type": "code",
   "execution_count": 27,
   "metadata": {},
   "outputs": [],
   "source": [
    "# We provide 4 trained models. You can load the model with the following command\n",
    "# Question: where do they create these optimized models?\n",
    "# -------------------------------------\n",
    "# if load_optimzed_model == True: \n",
    "#     model_id=4\n",
    "#     model_weights = 'trained_models/{}/best_model_{}_{}.h5'.format(Data_id,Data_id,model_id)\n",
    "#     if not os.path.exists(model_weights):\n",
    "#         print(\"no such a weight file\")\n",
    "#     else:\n",
    "#         model.load_weights(model_weights)"
   ]
  },
  {
   "cell_type": "code",
   "execution_count": 28,
   "metadata": {},
   "outputs": [],
   "source": [
    "# y_batch_pred_test = model.predict(x_batch_test)"
   ]
  },
  {
   "cell_type": "code",
   "execution_count": 29,
   "metadata": {},
   "outputs": [],
   "source": [
    "# rmse_on_test = np.sqrt(mean_squared_error(y_batch_pred_test, y_batch_test))\n",
    "# print(\"The RMSE on test dataset {} is {}.\".format(Data_id,rmse_on_test))"
   ]
  },
  {
   "cell_type": "markdown",
   "metadata": {},
   "source": [
    "# Results"
   ]
  },
  {
   "cell_type": "markdown",
   "metadata": {},
   "source": [
    "The figure shows the average RMSE\n",
    "\n",
    "| Datasets               | FD001  | FD002  | FD003 | FD004  |\n",
    "|------------------------------|--------|--------|-------|--------|\n",
    "|   LSTM (2017)           | 16.14  | 24.49  | 16.18 | 28.17  | \n",
    "|   DCNN (2018)           | 12.61  | 22.36  | 12.64 | 23.31  |\n",
    "|   DAG (2019)            | 11.96  | 20.34  | 12.46 | 22.43  | \n",
    "|   Model in this notebook   | 14.92  | **18.11**  | 13.85  | **20.11** | \n",
    "|   Optimized Model        | **11.03** | **15.95**  | **11.23**  | **16.21**  | "
   ]
  },
  {
   "cell_type": "markdown",
   "metadata": {},
   "source": [
    "# potential"
   ]
  },
  {
   "cell_type": "markdown",
   "metadata": {},
   "source": [
    "* Time series usually need pre-processing, such as **reducing noise** or **doing difference**. Proper preprocessing will help the model have better results. **1D convolution and difference** can be used as the preprocessing part.\n",
    "\n",
    "    \n",
    "\n",
    "* The model above is not optimized for each data set, If the model is **optimized separately** for each data set, the results will be better.\n",
    "\n",
    "    \n",
    "    \n",
    "* How to effectively set these hyperparameters? automated machine learning\n",
    "\n"
   ]
  },
  {
   "cell_type": "code",
   "execution_count": null,
   "metadata": {},
   "outputs": [],
   "source": []
  }
 ],
 "metadata": {
  "kernelspec": {
   "display_name": "Python 3.7.12 ('auto_rul')",
   "language": "python",
   "name": "python3"
  },
  "language_info": {
   "codemirror_mode": {
    "name": "ipython",
    "version": 3
   },
   "file_extension": ".py",
   "mimetype": "text/x-python",
   "name": "python",
   "nbconvert_exporter": "python",
   "pygments_lexer": "ipython3",
   "version": "3.7.12"
  },
  "toc": {
   "base_numbering": 1,
   "nav_menu": {},
   "number_sections": true,
   "sideBar": true,
   "skip_h1_title": false,
   "title_cell": "Table of Contents",
   "title_sidebar": "Contents",
   "toc_cell": false,
   "toc_position": {},
   "toc_section_display": true,
   "toc_window_display": false
  },
  "vscode": {
   "interpreter": {
    "hash": "abe16f79138baa50641dc9e7415c40b1fe64b7a4be5fe4f8e3f1f9ad9c386559"
   }
  }
 },
 "nbformat": 4,
 "nbformat_minor": 2
}

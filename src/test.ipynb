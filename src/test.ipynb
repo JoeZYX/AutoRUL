{
 "metadata": {
  "language_info": {
   "codemirror_mode": {
    "name": "ipython",
    "version": 3
   },
   "file_extension": ".py",
   "mimetype": "text/x-python",
   "name": "python",
   "nbconvert_exporter": "python",
   "pygments_lexer": "ipython3",
   "version": 3
  },
  "orig_nbformat": 2
 },
 "nbformat": 4,
 "nbformat_minor": 2,
 "cells": [
  {
   "cell_type": "code",
   "execution_count": null,
   "metadata": {},
   "outputs": [],
   "source": [
    "from rul import RemainingUsefulLife"
   ]
  },
  {
   "cell_type": "code",
   "execution_count": null,
   "metadata": {},
   "outputs": [],
   "source": [
    "rul = RemainingUsefulLife(\"CMAPSSData\")\n",
    "rul.auto_rul([\"FD001\"], [\"FD001\"], [\"FD001\"])\n",
    "rul.test()\n",
    "print(rul.get_results())\n",
    "rul.export_to_csv('FD001')"
   ]
  },
  {
   "cell_type": "code",
   "execution_count": null,
   "metadata": {},
   "outputs": [],
   "source": [
    "rul2 = RemainingUsefulLife(\"CMAPSSData\")\n",
    "rul2.auto_rul([\"FD002\"], [\"FD002\"], [\"FD002\"])\n",
    "rul2.test()\n",
    "print(rul2.get_results())\n",
    "rul2.export_to_csv('FD002')"
   ]
  },
  {
   "cell_type": "code",
   "execution_count": null,
   "metadata": {},
   "outputs": [],
   "source": [
    "rul3 = RemainingUsefulLife(\"CMAPSSData\")\n",
    "rul3.auto_rul([\"FD003\"], [\"FD003\"], [\"FD003\"])\n",
    "rul3.test()\n",
    "print(rul3.get_results())\n",
    "rul3.export_to_csv('FD003')"
   ]
  },
  {
   "cell_type": "code",
   "execution_count": null,
   "metadata": {},
   "outputs": [],
   "source": [
    "rul4 = RemainingUsefulLife(\"CMAPSSData\")\n",
    "rul4.auto_rul([\"FD004\"], [\"FD004\"], [\"FD004\"])\n",
    "rul4.test()\n",
    "print(rul4.get_results())\n",
    "rul4.export_to_csv('FD004')"
   ]
  },
  {
   "cell_type": "code",
   "execution_count": null,
   "metadata": {},
   "outputs": [],
   "source": [
    "rul5 = RemainingUsefulLife(\"CMAPSSData\")\n",
    "rul5.auto_rul([\"FD005\"], [\"FD005\"], [\"FD005\"])\n",
    "rul5.test()\n",
    "print(rul5.get_results())\n",
    "rul5.export_to_csv('FD005')"
   ]
  }
 ]
}
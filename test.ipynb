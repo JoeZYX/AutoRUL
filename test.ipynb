{
 "cells": [
  {
   "cell_type": "code",
   "execution_count": null,
   "metadata": {},
   "outputs": [],
   "source": []
  },
  {
   "cell_type": "code",
   "execution_count": 1,
   "metadata": {},
   "outputs": [
    {
     "data": {
      "text/plain": [
       "[19, 18, 17, 16, 15, 14, 13, 12, 11, 10, 9, 8]"
      ]
     },
     "execution_count": 1,
     "metadata": {},
     "output_type": "execute_result"
    }
   ],
   "source": [
    "id='engine_id'\n",
    "MAXLIFE = 120 # or 125 , 130\n",
    "# piecewise linear RUL \n",
    "rul = [] \n",
    "cycle_list = [1,2,6,7,8,9,12,16,17,18,19,20]\n",
    "max_cycle = max(cycle_list)\n",
    "knee_point = max_cycle - MAXLIFE\n",
    "kink_RUL = []\n",
    "for i in range(0, len(cycle_list)):\n",
    "    # \n",
    "    if i < knee_point:\n",
    "        kink_RUL.append(MAXLIFE)\n",
    "    else:\n",
    "        tmp = max_cycle-i-1\n",
    "        kink_RUL.append(tmp)\n",
    "rul.extend(kink_RUL)\n",
    "\n",
    "rul"
   ]
  }
 ],
 "metadata": {
  "kernelspec": {
   "display_name": "Python 3.10.5 64-bit",
   "language": "python",
   "name": "python3"
  },
  "language_info": {
   "codemirror_mode": {
    "name": "ipython",
    "version": 3
   },
   "file_extension": ".py",
   "mimetype": "text/x-python",
   "name": "python",
   "nbconvert_exporter": "python",
   "pygments_lexer": "ipython3",
   "version": "3.10.5"
  },
  "orig_nbformat": 4,
  "vscode": {
   "interpreter": {
    "hash": "de6709928cf2e8855f0ca4b57bbca8fbec23aa7e1023fb55e3401e919c59305b"
   }
  }
 },
 "nbformat": 4,
 "nbformat_minor": 2
}

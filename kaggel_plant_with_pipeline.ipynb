{
 "cells": [
  {
   "cell_type": "markdown",
   "metadata": {},
   "source": [
    "In this notebook, some models are trained on kaggle production plant dataset using the automated pipeline"
   ]
  },
  {
   "cell_type": "code",
   "execution_count": 31,
   "metadata": {},
   "outputs": [
    {
     "name": "stdout",
     "output_type": "stream",
     "text": [
      "The autoreload extension is already loaded. To reload it, use:\n",
      "  %reload_ext autoreload\n"
     ]
    }
   ],
   "source": [
    "import warnings \n",
    "warnings.filterwarnings(\"ignore\")\n",
    "import pandas as pd\n",
    "import matplotlib.pyplot as plt\n",
    "import numpy as np\n",
    "import tensorflow as tf\n",
    "import time\n",
    "from utilities import *\n",
    "from sklearn.metrics import mean_squared_error\n",
    "import os\n",
    "from datetime import datetime\n",
    "import rul \n",
    "%load_ext autoreload\n",
    "%autoreload"
   ]
  },
  {
   "cell_type": "markdown",
   "metadata": {},
   "source": [
    "# Load Data"
   ]
  },
  {
   "cell_type": "code",
   "execution_count": 32,
   "metadata": {},
   "outputs": [],
   "source": [
    "kaggle_data = pd.read_csv(\"C:\\\\Users\\\\I539001\\\\OneDrive - SAP SE\\\\PA2\\\\AL\\\\FeedbackBoost\\\\Data\\\\Kaggle_Plant.csv\")"
   ]
  },
  {
   "cell_type": "code",
   "execution_count": 33,
   "metadata": {},
   "outputs": [
    {
     "data": {
      "text/plain": [
       "(228412, 34)"
      ]
     },
     "execution_count": 33,
     "metadata": {},
     "output_type": "execute_result"
    }
   ],
   "source": [
    "kaggle_data.shape"
   ]
  },
  {
   "cell_type": "code",
   "execution_count": 34,
   "metadata": {},
   "outputs": [],
   "source": [
    "Data_id = \"Kaggel_plant\""
   ]
  },
  {
   "cell_type": "code",
   "execution_count": 35,
   "metadata": {},
   "outputs": [
    {
     "data": {
      "text/html": [
       "<div>\n",
       "<style scoped>\n",
       "    .dataframe tbody tr th:only-of-type {\n",
       "        vertical-align: middle;\n",
       "    }\n",
       "\n",
       "    .dataframe tbody tr th {\n",
       "        vertical-align: top;\n",
       "    }\n",
       "\n",
       "    .dataframe thead th {\n",
       "        text-align: right;\n",
       "    }\n",
       "</style>\n",
       "<table border=\"1\" class=\"dataframe\">\n",
       "  <thead>\n",
       "    <tr style=\"text-align: right;\">\n",
       "      <th></th>\n",
       "      <th>Unnamed: 0</th>\n",
       "      <th>rtf_id</th>\n",
       "      <th>cycle</th>\n",
       "      <th>L_1</th>\n",
       "      <th>L_2</th>\n",
       "      <th>A_1</th>\n",
       "      <th>A_2</th>\n",
       "      <th>B_1</th>\n",
       "      <th>B_2</th>\n",
       "      <th>C_1</th>\n",
       "      <th>...</th>\n",
       "      <th>L_10</th>\n",
       "      <th>A_5</th>\n",
       "      <th>B_5</th>\n",
       "      <th>C_5</th>\n",
       "      <th>ts_int</th>\n",
       "      <th>cnt_per_rtf</th>\n",
       "      <th>RUL</th>\n",
       "      <th>RUL_pw</th>\n",
       "      <th>phase</th>\n",
       "      <th>IMM_FAILURE</th>\n",
       "    </tr>\n",
       "  </thead>\n",
       "  <tbody>\n",
       "    <tr>\n",
       "      <th>0</th>\n",
       "      <td>1</td>\n",
       "      <td>7</td>\n",
       "      <td>0</td>\n",
       "      <td>-99.331815</td>\n",
       "      <td>-79.731577</td>\n",
       "      <td>-49.996189</td>\n",
       "      <td>-56.874058</td>\n",
       "      <td>-55.671430</td>\n",
       "      <td>-57.022951</td>\n",
       "      <td>-55.660953</td>\n",
       "      <td>...</td>\n",
       "      <td>-65.524273</td>\n",
       "      <td>-100.0</td>\n",
       "      <td>-100.0</td>\n",
       "      <td>-100.0</td>\n",
       "      <td>1</td>\n",
       "      <td>51671</td>\n",
       "      <td>51671</td>\n",
       "      <td>120</td>\n",
       "      <td>1</td>\n",
       "      <td>0</td>\n",
       "    </tr>\n",
       "    <tr>\n",
       "      <th>1</th>\n",
       "      <td>2</td>\n",
       "      <td>7</td>\n",
       "      <td>1</td>\n",
       "      <td>-99.331815</td>\n",
       "      <td>-79.731577</td>\n",
       "      <td>-50.087659</td>\n",
       "      <td>-56.874058</td>\n",
       "      <td>-55.617255</td>\n",
       "      <td>-56.970492</td>\n",
       "      <td>-55.498340</td>\n",
       "      <td>...</td>\n",
       "      <td>-65.524273</td>\n",
       "      <td>-100.0</td>\n",
       "      <td>-100.0</td>\n",
       "      <td>-100.0</td>\n",
       "      <td>2</td>\n",
       "      <td>51671</td>\n",
       "      <td>51670</td>\n",
       "      <td>120</td>\n",
       "      <td>1</td>\n",
       "      <td>0</td>\n",
       "    </tr>\n",
       "    <tr>\n",
       "      <th>2</th>\n",
       "      <td>3</td>\n",
       "      <td>7</td>\n",
       "      <td>2</td>\n",
       "      <td>-96.142749</td>\n",
       "      <td>-71.343358</td>\n",
       "      <td>-50.118149</td>\n",
       "      <td>-56.978955</td>\n",
       "      <td>-55.603711</td>\n",
       "      <td>-57.140984</td>\n",
       "      <td>-55.538993</td>\n",
       "      <td>...</td>\n",
       "      <td>-71.139518</td>\n",
       "      <td>-100.0</td>\n",
       "      <td>-100.0</td>\n",
       "      <td>-100.0</td>\n",
       "      <td>3</td>\n",
       "      <td>51671</td>\n",
       "      <td>51669</td>\n",
       "      <td>120</td>\n",
       "      <td>1</td>\n",
       "      <td>0</td>\n",
       "    </tr>\n",
       "    <tr>\n",
       "      <th>3</th>\n",
       "      <td>4</td>\n",
       "      <td>7</td>\n",
       "      <td>3</td>\n",
       "      <td>-88.883827</td>\n",
       "      <td>-59.724121</td>\n",
       "      <td>-50.102904</td>\n",
       "      <td>-56.874058</td>\n",
       "      <td>-55.671430</td>\n",
       "      <td>-56.983607</td>\n",
       "      <td>-55.593197</td>\n",
       "      <td>...</td>\n",
       "      <td>-68.708337</td>\n",
       "      <td>-100.0</td>\n",
       "      <td>-100.0</td>\n",
       "      <td>-100.0</td>\n",
       "      <td>4</td>\n",
       "      <td>51671</td>\n",
       "      <td>51668</td>\n",
       "      <td>120</td>\n",
       "      <td>1</td>\n",
       "      <td>0</td>\n",
       "    </tr>\n",
       "    <tr>\n",
       "      <th>4</th>\n",
       "      <td>5</td>\n",
       "      <td>7</td>\n",
       "      <td>4</td>\n",
       "      <td>-66.985573</td>\n",
       "      <td>-50.316888</td>\n",
       "      <td>-50.148639</td>\n",
       "      <td>-56.992067</td>\n",
       "      <td>-55.590167</td>\n",
       "      <td>-57.062295</td>\n",
       "      <td>-55.674504</td>\n",
       "      <td>...</td>\n",
       "      <td>-67.030037</td>\n",
       "      <td>-100.0</td>\n",
       "      <td>-100.0</td>\n",
       "      <td>-100.0</td>\n",
       "      <td>5</td>\n",
       "      <td>51671</td>\n",
       "      <td>51667</td>\n",
       "      <td>120</td>\n",
       "      <td>1</td>\n",
       "      <td>0</td>\n",
       "    </tr>\n",
       "    <tr>\n",
       "      <th>...</th>\n",
       "      <td>...</td>\n",
       "      <td>...</td>\n",
       "      <td>...</td>\n",
       "      <td>...</td>\n",
       "      <td>...</td>\n",
       "      <td>...</td>\n",
       "      <td>...</td>\n",
       "      <td>...</td>\n",
       "      <td>...</td>\n",
       "      <td>...</td>\n",
       "      <td>...</td>\n",
       "      <td>...</td>\n",
       "      <td>...</td>\n",
       "      <td>...</td>\n",
       "      <td>...</td>\n",
       "      <td>...</td>\n",
       "      <td>...</td>\n",
       "      <td>...</td>\n",
       "      <td>...</td>\n",
       "      <td>...</td>\n",
       "      <td>...</td>\n",
       "    </tr>\n",
       "    <tr>\n",
       "      <th>228407</th>\n",
       "      <td>228408</td>\n",
       "      <td>16</td>\n",
       "      <td>21016</td>\n",
       "      <td>-91.921033</td>\n",
       "      <td>-54.939729</td>\n",
       "      <td>-12.645781</td>\n",
       "      <td>-24.723005</td>\n",
       "      <td>-22.313266</td>\n",
       "      <td>-24.747541</td>\n",
       "      <td>-22.298259</td>\n",
       "      <td>...</td>\n",
       "      <td>-30.123128</td>\n",
       "      <td>-100.0</td>\n",
       "      <td>-100.0</td>\n",
       "      <td>-100.0</td>\n",
       "      <td>228420</td>\n",
       "      <td>21021</td>\n",
       "      <td>5</td>\n",
       "      <td>5</td>\n",
       "      <td>3</td>\n",
       "      <td>1</td>\n",
       "    </tr>\n",
       "    <tr>\n",
       "      <th>228408</th>\n",
       "      <td>228409</td>\n",
       "      <td>16</td>\n",
       "      <td>21017</td>\n",
       "      <td>-99.331815</td>\n",
       "      <td>-79.731577</td>\n",
       "      <td>-12.706761</td>\n",
       "      <td>-24.762342</td>\n",
       "      <td>-22.448703</td>\n",
       "      <td>-24.813115</td>\n",
       "      <td>-22.284708</td>\n",
       "      <td>...</td>\n",
       "      <td>-60.269783</td>\n",
       "      <td>-100.0</td>\n",
       "      <td>-100.0</td>\n",
       "      <td>-100.0</td>\n",
       "      <td>228421</td>\n",
       "      <td>21021</td>\n",
       "      <td>4</td>\n",
       "      <td>4</td>\n",
       "      <td>3</td>\n",
       "      <td>1</td>\n",
       "    </tr>\n",
       "    <tr>\n",
       "      <th>228409</th>\n",
       "      <td>228410</td>\n",
       "      <td>16</td>\n",
       "      <td>21018</td>\n",
       "      <td>-99.331815</td>\n",
       "      <td>-79.731577</td>\n",
       "      <td>-12.706761</td>\n",
       "      <td>-24.736117</td>\n",
       "      <td>-22.313266</td>\n",
       "      <td>-24.826230</td>\n",
       "      <td>-22.271157</td>\n",
       "      <td>...</td>\n",
       "      <td>-59.062034</td>\n",
       "      <td>-100.0</td>\n",
       "      <td>-100.0</td>\n",
       "      <td>-100.0</td>\n",
       "      <td>228422</td>\n",
       "      <td>21021</td>\n",
       "      <td>3</td>\n",
       "      <td>3</td>\n",
       "      <td>3</td>\n",
       "      <td>1</td>\n",
       "    </tr>\n",
       "    <tr>\n",
       "      <th>228410</th>\n",
       "      <td>228411</td>\n",
       "      <td>16</td>\n",
       "      <td>21019</td>\n",
       "      <td>-99.331815</td>\n",
       "      <td>-79.731577</td>\n",
       "      <td>-12.462840</td>\n",
       "      <td>-24.893464</td>\n",
       "      <td>-22.380985</td>\n",
       "      <td>-24.865574</td>\n",
       "      <td>-22.284708</td>\n",
       "      <td>...</td>\n",
       "      <td>-61.242256</td>\n",
       "      <td>-100.0</td>\n",
       "      <td>-100.0</td>\n",
       "      <td>-100.0</td>\n",
       "      <td>228423</td>\n",
       "      <td>21021</td>\n",
       "      <td>2</td>\n",
       "      <td>2</td>\n",
       "      <td>3</td>\n",
       "      <td>1</td>\n",
       "    </tr>\n",
       "    <tr>\n",
       "      <th>228411</th>\n",
       "      <td>228412</td>\n",
       "      <td>16</td>\n",
       "      <td>21020</td>\n",
       "      <td>-99.331815</td>\n",
       "      <td>-79.731577</td>\n",
       "      <td>-80.364357</td>\n",
       "      <td>-82.219891</td>\n",
       "      <td>-75.309812</td>\n",
       "      <td>-77.586885</td>\n",
       "      <td>-70.174131</td>\n",
       "      <td>...</td>\n",
       "      <td>-62.889185</td>\n",
       "      <td>-100.0</td>\n",
       "      <td>-100.0</td>\n",
       "      <td>-100.0</td>\n",
       "      <td>228424</td>\n",
       "      <td>21021</td>\n",
       "      <td>1</td>\n",
       "      <td>1</td>\n",
       "      <td>3</td>\n",
       "      <td>1</td>\n",
       "    </tr>\n",
       "  </tbody>\n",
       "</table>\n",
       "<p>228412 rows × 34 columns</p>\n",
       "</div>"
      ],
      "text/plain": [
       "        Unnamed: 0  rtf_id  cycle        L_1        L_2        A_1        A_2  \\\n",
       "0                1       7      0 -99.331815 -79.731577 -49.996189 -56.874058   \n",
       "1                2       7      1 -99.331815 -79.731577 -50.087659 -56.874058   \n",
       "2                3       7      2 -96.142749 -71.343358 -50.118149 -56.978955   \n",
       "3                4       7      3 -88.883827 -59.724121 -50.102904 -56.874058   \n",
       "4                5       7      4 -66.985573 -50.316888 -50.148639 -56.992067   \n",
       "...            ...     ...    ...        ...        ...        ...        ...   \n",
       "228407      228408      16  21016 -91.921033 -54.939729 -12.645781 -24.723005   \n",
       "228408      228409      16  21017 -99.331815 -79.731577 -12.706761 -24.762342   \n",
       "228409      228410      16  21018 -99.331815 -79.731577 -12.706761 -24.736117   \n",
       "228410      228411      16  21019 -99.331815 -79.731577 -12.462840 -24.893464   \n",
       "228411      228412      16  21020 -99.331815 -79.731577 -80.364357 -82.219891   \n",
       "\n",
       "              B_1        B_2        C_1  ...       L_10    A_5    B_5    C_5  \\\n",
       "0      -55.671430 -57.022951 -55.660953  ... -65.524273 -100.0 -100.0 -100.0   \n",
       "1      -55.617255 -56.970492 -55.498340  ... -65.524273 -100.0 -100.0 -100.0   \n",
       "2      -55.603711 -57.140984 -55.538993  ... -71.139518 -100.0 -100.0 -100.0   \n",
       "3      -55.671430 -56.983607 -55.593197  ... -68.708337 -100.0 -100.0 -100.0   \n",
       "4      -55.590167 -57.062295 -55.674504  ... -67.030037 -100.0 -100.0 -100.0   \n",
       "...           ...        ...        ...  ...        ...    ...    ...    ...   \n",
       "228407 -22.313266 -24.747541 -22.298259  ... -30.123128 -100.0 -100.0 -100.0   \n",
       "228408 -22.448703 -24.813115 -22.284708  ... -60.269783 -100.0 -100.0 -100.0   \n",
       "228409 -22.313266 -24.826230 -22.271157  ... -59.062034 -100.0 -100.0 -100.0   \n",
       "228410 -22.380985 -24.865574 -22.284708  ... -61.242256 -100.0 -100.0 -100.0   \n",
       "228411 -75.309812 -77.586885 -70.174131  ... -62.889185 -100.0 -100.0 -100.0   \n",
       "\n",
       "        ts_int  cnt_per_rtf    RUL  RUL_pw  phase  IMM_FAILURE  \n",
       "0            1        51671  51671     120      1            0  \n",
       "1            2        51671  51670     120      1            0  \n",
       "2            3        51671  51669     120      1            0  \n",
       "3            4        51671  51668     120      1            0  \n",
       "4            5        51671  51667     120      1            0  \n",
       "...        ...          ...    ...     ...    ...          ...  \n",
       "228407  228420        21021      5       5      3            1  \n",
       "228408  228421        21021      4       4      3            1  \n",
       "228409  228422        21021      3       3      3            1  \n",
       "228410  228423        21021      2       2      3            1  \n",
       "228411  228424        21021      1       1      3            1  \n",
       "\n",
       "[228412 rows x 34 columns]"
      ]
     },
     "execution_count": 35,
     "metadata": {},
     "output_type": "execute_result"
    }
   ],
   "source": [
    "kaggle_data # how did Cahit calculate RUL column? it is not available in the original dataset"
   ]
  },
  {
   "cell_type": "code",
   "execution_count": 36,
   "metadata": {},
   "outputs": [],
   "source": [
    "kaggel_data_uncleaned = kaggle_data.copy()"
   ]
  },
  {
   "cell_type": "markdown",
   "metadata": {},
   "source": [
    "# Some Exploratory Analysis"
   ]
  },
  {
   "cell_type": "code",
   "execution_count": 37,
   "metadata": {},
   "outputs": [
    {
     "data": {
      "text/plain": [
       "array([ 7,  8,  9, 11, 13, 14, 15, 16], dtype=int64)"
      ]
     },
     "execution_count": 37,
     "metadata": {},
     "output_type": "execute_result"
    }
   ],
   "source": [
    "kaggle_data['rtf_id'].unique() # here we can see how little data we actually have (too few rtf_ids)"
   ]
  },
  {
   "cell_type": "code",
   "execution_count": 38,
   "metadata": {},
   "outputs": [
    {
     "data": {
      "text/plain": [
       "[<matplotlib.lines.Line2D at 0x2d8d5fffbc8>]"
      ]
     },
     "execution_count": 38,
     "metadata": {},
     "output_type": "execute_result"
    },
    {
     "data": {
      "image/png": "[encoded data removed]",
      "text/plain": [
       "<Figure size 640x480 with 1 Axes>"
      ]
     },
     "metadata": {},
     "output_type": "display_data"
    }
   ],
   "source": [
    "data_16 = kaggle_data[kaggle_data['rtf_id'] == 16] \n",
    "plt.plot(data_16[\"RUL\"])"
   ]
  },
  {
   "cell_type": "code",
   "execution_count": 39,
   "metadata": {},
   "outputs": [
    {
     "data": {
      "text/plain": [
       "[<matplotlib.lines.Line2D at 0x2d8d6039d08>]"
      ]
     },
     "execution_count": 39,
     "metadata": {},
     "output_type": "execute_result"
    },
    {
     "data": {
      "image/png": "[encoded data removed]",
      "text/plain": [
       "<Figure size 640x480 with 1 Axes>"
      ]
     },
     "metadata": {},
     "output_type": "display_data"
    }
   ],
   "source": [
    "fig = plt.figure()\n",
    "# plt.rcParams[\"figure.figsize\"] = (50,20)\n",
    "# fig, ax = plt.subplots()\n",
    "# ratio = 2\n",
    "# x_left, x_right = ax.get_xlim()\n",
    "# y_low, y_high = ax.get_ylim()\n",
    "# ax.set_aspect(abs((x_right-x_left)/(y_low-y_high))*ratio)\n",
    "plt.plot(data_16[\"RUL_pw\"])\n"
   ]
  },
  {
   "cell_type": "code",
   "execution_count": 40,
   "metadata": {},
   "outputs": [
    {
     "data": {
      "text/plain": [
       "[<matplotlib.lines.Line2D at 0x2d8d60ae148>]"
      ]
     },
     "execution_count": 40,
     "metadata": {},
     "output_type": "execute_result"
    },
    {
     "data": {
      "image/png": "[encoded data removed]",
      "text/plain": [
       "<Figure size 640x480 with 1 Axes>"
      ]
     },
     "metadata": {},
     "output_type": "display_data"
    }
   ],
   "source": [
    "data_8 = kaggle_data[kaggle_data['rtf_id'] == 8]\n",
    "fig = plt.figure()\n",
    "# plt.rcParams[\"figure.figsize\"] = (50,10)\n",
    "# fig, ax = plt.subplots()\n",
    "\n",
    "# ratio = 2\n",
    "# x_left, x_right = ax.get_xlim()\n",
    "# y_low, y_high = ax.get_ylim()\n",
    "# ax.set_aspect(abs((x_right-x_left)/(y_low-y_high))*ratio)\n",
    "plt.plot(data_8[\"RUL_pw\"])"
   ]
  },
  {
   "cell_type": "code",
   "execution_count": 41,
   "metadata": {},
   "outputs": [
    {
     "data": {
      "text/plain": [
       "[<matplotlib.lines.Line2D at 0x2d8d6120c48>]"
      ]
     },
     "execution_count": 41,
     "metadata": {},
     "output_type": "execute_result"
    },
    {
     "data": {
      "image/png": "[encoded data removed]",
      "text/plain": [
       "<Figure size 640x480 with 1 Axes>"
      ]
     },
     "metadata": {},
     "output_type": "display_data"
    }
   ],
   "source": [
    "plt.plot(kaggle_data[\"RUL_pw\"])"
   ]
  },
  {
   "cell_type": "code",
   "execution_count": 42,
   "metadata": {},
   "outputs": [
    {
     "data": {
      "text/plain": [
       "array([ 7,  8,  9, 11, 13, 14, 15, 16], dtype=int64)"
      ]
     },
     "execution_count": 42,
     "metadata": {},
     "output_type": "execute_result"
    }
   ],
   "source": [
    "# we only have 8 rtfs -> very few amount of data\n",
    "rtf_ids = kaggle_data['rtf_id'].unique() # very few amount of data compared to cmaps (260 unique engine_ids alone in train set)\n",
    "rtf_ids\n",
    "# cross validation as solution to \"zu wenig data\"?"
   ]
  },
  {
   "cell_type": "markdown",
   "metadata": {},
   "source": [
    "# Data Preparation"
   ]
  },
  {
   "cell_type": "markdown",
   "metadata": {},
   "source": [
    "# Train Data"
   ]
  },
  {
   "cell_type": "code",
   "execution_count": 43,
   "metadata": {},
   "outputs": [],
   "source": [
    "kaggle_data= kaggle_data.drop(['Unnamed: 0', 'ts_int', 'cnt_per_rtf','phase','IMM_FAILURE'], axis=1) \n",
    "# run to failure id: z.B engine_id "
   ]
  },
  {
   "cell_type": "code",
   "execution_count": 44,
   "metadata": {},
   "outputs": [
    {
     "data": {
      "text/html": [
       "<div>\n",
       "<style scoped>\n",
       "    .dataframe tbody tr th:only-of-type {\n",
       "        vertical-align: middle;\n",
       "    }\n",
       "\n",
       "    .dataframe tbody tr th {\n",
       "        vertical-align: top;\n",
       "    }\n",
       "\n",
       "    .dataframe thead th {\n",
       "        text-align: right;\n",
       "    }\n",
       "</style>\n",
       "<table border=\"1\" class=\"dataframe\">\n",
       "  <thead>\n",
       "    <tr style=\"text-align: right;\">\n",
       "      <th></th>\n",
       "      <th>rtf_id</th>\n",
       "      <th>cycle</th>\n",
       "      <th>L_1</th>\n",
       "      <th>L_2</th>\n",
       "      <th>A_1</th>\n",
       "      <th>A_2</th>\n",
       "      <th>B_1</th>\n",
       "      <th>B_2</th>\n",
       "      <th>C_1</th>\n",
       "      <th>C_2</th>\n",
       "      <th>...</th>\n",
       "      <th>L_6</th>\n",
       "      <th>L_7</th>\n",
       "      <th>L_8</th>\n",
       "      <th>L_9</th>\n",
       "      <th>L_10</th>\n",
       "      <th>A_5</th>\n",
       "      <th>B_5</th>\n",
       "      <th>C_5</th>\n",
       "      <th>RUL</th>\n",
       "      <th>RUL_pw</th>\n",
       "    </tr>\n",
       "  </thead>\n",
       "  <tbody>\n",
       "    <tr>\n",
       "      <th>176653</th>\n",
       "      <td>14</td>\n",
       "      <td>32843</td>\n",
       "      <td>-91.678056</td>\n",
       "      <td>-26.233379</td>\n",
       "      <td>-12.630536</td>\n",
       "      <td>-24.762342</td>\n",
       "      <td>10.963635</td>\n",
       "      <td>-14.032787</td>\n",
       "      <td>33.220408</td>\n",
       "      <td>7.333377</td>\n",
       "      <td>...</td>\n",
       "      <td>2.981725</td>\n",
       "      <td>-88.804906</td>\n",
       "      <td>-29.331788</td>\n",
       "      <td>-92.362007</td>\n",
       "      <td>29.244765</td>\n",
       "      <td>-100.0</td>\n",
       "      <td>33.333333</td>\n",
       "      <td>53.846154</td>\n",
       "      <td>5</td>\n",
       "      <td>5</td>\n",
       "    </tr>\n",
       "    <tr>\n",
       "      <th>176654</th>\n",
       "      <td>14</td>\n",
       "      <td>32844</td>\n",
       "      <td>-91.936219</td>\n",
       "      <td>-43.134087</td>\n",
       "      <td>-12.523820</td>\n",
       "      <td>-24.749230</td>\n",
       "      <td>-22.380985</td>\n",
       "      <td>-24.760656</td>\n",
       "      <td>-4.559930</td>\n",
       "      <td>-24.490465</td>\n",
       "      <td>...</td>\n",
       "      <td>-53.350433</td>\n",
       "      <td>-85.824301</td>\n",
       "      <td>-33.498133</td>\n",
       "      <td>-92.362007</td>\n",
       "      <td>-53.948710</td>\n",
       "      <td>-100.0</td>\n",
       "      <td>-100.000000</td>\n",
       "      <td>-100.000000</td>\n",
       "      <td>4</td>\n",
       "      <td>4</td>\n",
       "    </tr>\n",
       "    <tr>\n",
       "      <th>176655</th>\n",
       "      <td>14</td>\n",
       "      <td>32845</td>\n",
       "      <td>-96.902050</td>\n",
       "      <td>-44.911147</td>\n",
       "      <td>-12.661026</td>\n",
       "      <td>-24.736117</td>\n",
       "      <td>-22.313266</td>\n",
       "      <td>-24.878689</td>\n",
       "      <td>-22.257606</td>\n",
       "      <td>-24.857461</td>\n",
       "      <td>...</td>\n",
       "      <td>-84.289836</td>\n",
       "      <td>-95.807188</td>\n",
       "      <td>-22.049697</td>\n",
       "      <td>-97.297092</td>\n",
       "      <td>-63.234256</td>\n",
       "      <td>-100.0</td>\n",
       "      <td>-100.000000</td>\n",
       "      <td>-100.000000</td>\n",
       "      <td>3</td>\n",
       "      <td>3</td>\n",
       "    </tr>\n",
       "    <tr>\n",
       "      <th>176656</th>\n",
       "      <td>14</td>\n",
       "      <td>32846</td>\n",
       "      <td>-96.810934</td>\n",
       "      <td>-61.625450</td>\n",
       "      <td>-12.554311</td>\n",
       "      <td>-24.736117</td>\n",
       "      <td>-22.299722</td>\n",
       "      <td>-24.826230</td>\n",
       "      <td>-22.244054</td>\n",
       "      <td>-24.844354</td>\n",
       "      <td>...</td>\n",
       "      <td>-84.289836</td>\n",
       "      <td>-96.434683</td>\n",
       "      <td>-31.685335</td>\n",
       "      <td>-97.297092</td>\n",
       "      <td>-63.861658</td>\n",
       "      <td>-100.0</td>\n",
       "      <td>-100.000000</td>\n",
       "      <td>-100.000000</td>\n",
       "      <td>2</td>\n",
       "      <td>2</td>\n",
       "    </tr>\n",
       "    <tr>\n",
       "      <th>176657</th>\n",
       "      <td>14</td>\n",
       "      <td>32847</td>\n",
       "      <td>-96.810934</td>\n",
       "      <td>-69.280477</td>\n",
       "      <td>-92.072567</td>\n",
       "      <td>-91.804891</td>\n",
       "      <td>-86.442744</td>\n",
       "      <td>-86.990164</td>\n",
       "      <td>-84.226574</td>\n",
       "      <td>-82.646307</td>\n",
       "      <td>...</td>\n",
       "      <td>-84.289836</td>\n",
       "      <td>-93.411295</td>\n",
       "      <td>-24.722544</td>\n",
       "      <td>-97.297092</td>\n",
       "      <td>-63.500902</td>\n",
       "      <td>-100.0</td>\n",
       "      <td>-100.000000</td>\n",
       "      <td>-100.000000</td>\n",
       "      <td>1</td>\n",
       "      <td>1</td>\n",
       "    </tr>\n",
       "  </tbody>\n",
       "</table>\n",
       "<p>5 rows × 29 columns</p>\n",
       "</div>"
      ],
      "text/plain": [
       "        rtf_id  cycle        L_1        L_2        A_1        A_2        B_1  \\\n",
       "176653      14  32843 -91.678056 -26.233379 -12.630536 -24.762342  10.963635   \n",
       "176654      14  32844 -91.936219 -43.134087 -12.523820 -24.749230 -22.380985   \n",
       "176655      14  32845 -96.902050 -44.911147 -12.661026 -24.736117 -22.313266   \n",
       "176656      14  32846 -96.810934 -61.625450 -12.554311 -24.736117 -22.299722   \n",
       "176657      14  32847 -96.810934 -69.280477 -92.072567 -91.804891 -86.442744   \n",
       "\n",
       "              B_2        C_1        C_2  ...        L_6        L_7        L_8  \\\n",
       "176653 -14.032787  33.220408   7.333377  ...   2.981725 -88.804906 -29.331788   \n",
       "176654 -24.760656  -4.559930 -24.490465  ... -53.350433 -85.824301 -33.498133   \n",
       "176655 -24.878689 -22.257606 -24.857461  ... -84.289836 -95.807188 -22.049697   \n",
       "176656 -24.826230 -22.244054 -24.844354  ... -84.289836 -96.434683 -31.685335   \n",
       "176657 -86.990164 -84.226574 -82.646307  ... -84.289836 -93.411295 -24.722544   \n",
       "\n",
       "              L_9       L_10    A_5         B_5         C_5  RUL  RUL_pw  \n",
       "176653 -92.362007  29.244765 -100.0   33.333333   53.846154    5       5  \n",
       "176654 -92.362007 -53.948710 -100.0 -100.000000 -100.000000    4       4  \n",
       "176655 -97.297092 -63.234256 -100.0 -100.000000 -100.000000    3       3  \n",
       "176656 -97.297092 -63.861658 -100.0 -100.000000 -100.000000    2       2  \n",
       "176657 -97.297092 -63.500902 -100.0 -100.000000 -100.000000    1       1  \n",
       "\n",
       "[5 rows x 29 columns]"
      ]
     },
     "execution_count": 44,
     "metadata": {},
     "output_type": "execute_result"
    }
   ],
   "source": [
    "#define train dataset and test dataset: first, without cross validation. Just manually defining\n",
    "train_data = kaggle_data.loc[kaggle_data['rtf_id'].isin(list(rtf_ids[:6]))]\n",
    "train_data.tail()"
   ]
  },
  {
   "cell_type": "code",
   "execution_count": 45,
   "metadata": {},
   "outputs": [],
   "source": [
    "train_data_with_original_pw_rul = train_data.copy()"
   ]
  },
  {
   "cell_type": "code",
   "execution_count": 46,
   "metadata": {},
   "outputs": [],
   "source": [
    "train_data = train_data.drop([\"RUL_pw\"], axis = 1)"
   ]
  },
  {
   "cell_type": "code",
   "execution_count": 47,
   "metadata": {},
   "outputs": [
    {
     "data": {
      "text/html": [
       "<div>\n",
       "<style scoped>\n",
       "    .dataframe tbody tr th:only-of-type {\n",
       "        vertical-align: middle;\n",
       "    }\n",
       "\n",
       "    .dataframe tbody tr th {\n",
       "        vertical-align: top;\n",
       "    }\n",
       "\n",
       "    .dataframe thead th {\n",
       "        text-align: right;\n",
       "    }\n",
       "</style>\n",
       "<table border=\"1\" class=\"dataframe\">\n",
       "  <thead>\n",
       "    <tr style=\"text-align: right;\">\n",
       "      <th></th>\n",
       "      <th>rtf_id</th>\n",
       "      <th>rul_per_rtf_id</th>\n",
       "    </tr>\n",
       "  </thead>\n",
       "  <tbody>\n",
       "    <tr>\n",
       "      <th>0</th>\n",
       "      <td>7</td>\n",
       "      <td>2</td>\n",
       "    </tr>\n",
       "    <tr>\n",
       "      <th>1</th>\n",
       "      <td>8</td>\n",
       "      <td>1</td>\n",
       "    </tr>\n",
       "    <tr>\n",
       "      <th>2</th>\n",
       "      <td>9</td>\n",
       "      <td>1</td>\n",
       "    </tr>\n",
       "    <tr>\n",
       "      <th>3</th>\n",
       "      <td>11</td>\n",
       "      <td>1</td>\n",
       "    </tr>\n",
       "    <tr>\n",
       "      <th>4</th>\n",
       "      <td>13</td>\n",
       "      <td>2</td>\n",
       "    </tr>\n",
       "    <tr>\n",
       "      <th>5</th>\n",
       "      <td>14</td>\n",
       "      <td>1</td>\n",
       "    </tr>\n",
       "  </tbody>\n",
       "</table>\n",
       "</div>"
      ],
      "text/plain": [
       "   rtf_id  rul_per_rtf_id\n",
       "0       7               2\n",
       "1       8               1\n",
       "2       9               1\n",
       "3      11               1\n",
       "4      13               2\n",
       "5      14               1"
      ]
     },
     "execution_count": 47,
     "metadata": {},
     "output_type": "execute_result"
    }
   ],
   "source": [
    "train_RUL_per_rtf_id =  extract_RUL_per_rtf_id(train_data, rul_column_name= \"RUL\")\n",
    "train_RUL_per_rtf_id "
   ]
  },
  {
   "cell_type": "code",
   "execution_count": 48,
   "metadata": {},
   "outputs": [],
   "source": [
    "x_train_data = train_data.loc[:, train_data.columns!='RUL']"
   ]
  },
  {
   "cell_type": "markdown",
   "metadata": {},
   "source": [
    "# Test Data"
   ]
  },
  {
   "cell_type": "code",
   "execution_count": 49,
   "metadata": {},
   "outputs": [],
   "source": [
    "test_data = kaggle_data.loc[kaggle_data['rtf_id'].isin(list(rtf_ids[6:]))]"
   ]
  },
  {
   "cell_type": "code",
   "execution_count": 50,
   "metadata": {},
   "outputs": [],
   "source": [
    "test_data_with_original_pw_rul = test_data.copy()"
   ]
  },
  {
   "cell_type": "code",
   "execution_count": 51,
   "metadata": {},
   "outputs": [],
   "source": [
    "test_data = test_data.drop([\"RUL_pw\"], axis = 1)"
   ]
  },
  {
   "cell_type": "code",
   "execution_count": 52,
   "metadata": {},
   "outputs": [
    {
     "data": {
      "text/html": [
       "<div>\n",
       "<style scoped>\n",
       "    .dataframe tbody tr th:only-of-type {\n",
       "        vertical-align: middle;\n",
       "    }\n",
       "\n",
       "    .dataframe tbody tr th {\n",
       "        vertical-align: top;\n",
       "    }\n",
       "\n",
       "    .dataframe thead th {\n",
       "        text-align: right;\n",
       "    }\n",
       "</style>\n",
       "<table border=\"1\" class=\"dataframe\">\n",
       "  <thead>\n",
       "    <tr style=\"text-align: right;\">\n",
       "      <th></th>\n",
       "      <th>rtf_id</th>\n",
       "      <th>rul_per_rtf_id</th>\n",
       "    </tr>\n",
       "  </thead>\n",
       "  <tbody>\n",
       "    <tr>\n",
       "      <th>0</th>\n",
       "      <td>15</td>\n",
       "      <td>1</td>\n",
       "    </tr>\n",
       "    <tr>\n",
       "      <th>1</th>\n",
       "      <td>16</td>\n",
       "      <td>1</td>\n",
       "    </tr>\n",
       "  </tbody>\n",
       "</table>\n",
       "</div>"
      ],
      "text/plain": [
       "   rtf_id  rul_per_rtf_id\n",
       "0      15               1\n",
       "1      16               1"
      ]
     },
     "execution_count": 52,
     "metadata": {},
     "output_type": "execute_result"
    }
   ],
   "source": [
    "test_RUL_per_rtf_id = extract_RUL_per_rtf_id(test_data, rul_column_name= \"RUL\")\n",
    "test_RUL_per_rtf_id"
   ]
  },
  {
   "cell_type": "code",
   "execution_count": 53,
   "metadata": {},
   "outputs": [
    {
     "data": {
      "text/html": [
       "<div>\n",
       "<style scoped>\n",
       "    .dataframe tbody tr th:only-of-type {\n",
       "        vertical-align: middle;\n",
       "    }\n",
       "\n",
       "    .dataframe tbody tr th {\n",
       "        vertical-align: top;\n",
       "    }\n",
       "\n",
       "    .dataframe thead th {\n",
       "        text-align: right;\n",
       "    }\n",
       "</style>\n",
       "<table border=\"1\" class=\"dataframe\">\n",
       "  <thead>\n",
       "    <tr style=\"text-align: right;\">\n",
       "      <th></th>\n",
       "      <th>rtf_id</th>\n",
       "      <th>cycle</th>\n",
       "      <th>L_1</th>\n",
       "      <th>L_2</th>\n",
       "      <th>A_1</th>\n",
       "      <th>A_2</th>\n",
       "      <th>B_1</th>\n",
       "      <th>B_2</th>\n",
       "      <th>C_1</th>\n",
       "      <th>C_2</th>\n",
       "      <th>...</th>\n",
       "      <th>L_4</th>\n",
       "      <th>L_5</th>\n",
       "      <th>L_6</th>\n",
       "      <th>L_7</th>\n",
       "      <th>L_8</th>\n",
       "      <th>L_9</th>\n",
       "      <th>L_10</th>\n",
       "      <th>A_5</th>\n",
       "      <th>B_5</th>\n",
       "      <th>C_5</th>\n",
       "    </tr>\n",
       "  </thead>\n",
       "  <tbody>\n",
       "    <tr>\n",
       "      <th>176658</th>\n",
       "      <td>15</td>\n",
       "      <td>0</td>\n",
       "      <td>-96.795748</td>\n",
       "      <td>-71.268796</td>\n",
       "      <td>-49.996189</td>\n",
       "      <td>-57.214974</td>\n",
       "      <td>-55.739148</td>\n",
       "      <td>-57.114754</td>\n",
       "      <td>-55.511891</td>\n",
       "      <td>-57.022085</td>\n",
       "      <td>...</td>\n",
       "      <td>-97.493393</td>\n",
       "      <td>-75.136673</td>\n",
       "      <td>-81.489794</td>\n",
       "      <td>-93.297205</td>\n",
       "      <td>-25.016094</td>\n",
       "      <td>-97.297092</td>\n",
       "      <td>-64.834131</td>\n",
       "      <td>-100.0</td>\n",
       "      <td>-100.0</td>\n",
       "      <td>-100.0</td>\n",
       "    </tr>\n",
       "    <tr>\n",
       "      <th>176659</th>\n",
       "      <td>15</td>\n",
       "      <td>1</td>\n",
       "      <td>-74.624146</td>\n",
       "      <td>-62.209519</td>\n",
       "      <td>-50.163884</td>\n",
       "      <td>-57.083852</td>\n",
       "      <td>-55.657886</td>\n",
       "      <td>-56.983607</td>\n",
       "      <td>-55.525442</td>\n",
       "      <td>-57.035192</td>\n",
       "      <td>...</td>\n",
       "      <td>-75.069834</td>\n",
       "      <td>-68.291770</td>\n",
       "      <td>-81.489794</td>\n",
       "      <td>-72.005134</td>\n",
       "      <td>-21.812798</td>\n",
       "      <td>-74.762736</td>\n",
       "      <td>-78.715395</td>\n",
       "      <td>-100.0</td>\n",
       "      <td>-100.0</td>\n",
       "      <td>-100.0</td>\n",
       "    </tr>\n",
       "    <tr>\n",
       "      <th>176660</th>\n",
       "      <td>15</td>\n",
       "      <td>2</td>\n",
       "      <td>-49.673500</td>\n",
       "      <td>-56.965329</td>\n",
       "      <td>-50.102904</td>\n",
       "      <td>-57.110077</td>\n",
       "      <td>-55.617255</td>\n",
       "      <td>-56.904918</td>\n",
       "      <td>-55.566095</td>\n",
       "      <td>-57.113834</td>\n",
       "      <td>...</td>\n",
       "      <td>-50.426569</td>\n",
       "      <td>-59.889163</td>\n",
       "      <td>-81.489794</td>\n",
       "      <td>-52.481460</td>\n",
       "      <td>-30.269087</td>\n",
       "      <td>-49.889910</td>\n",
       "      <td>-71.861031</td>\n",
       "      <td>-100.0</td>\n",
       "      <td>-100.0</td>\n",
       "      <td>-100.0</td>\n",
       "    </tr>\n",
       "    <tr>\n",
       "      <th>176661</th>\n",
       "      <td>15</td>\n",
       "      <td>3</td>\n",
       "      <td>4.920273</td>\n",
       "      <td>-40.859948</td>\n",
       "      <td>-50.133394</td>\n",
       "      <td>-57.083852</td>\n",
       "      <td>-55.549536</td>\n",
       "      <td>-56.891803</td>\n",
       "      <td>-55.484789</td>\n",
       "      <td>-57.008978</td>\n",
       "      <td>...</td>\n",
       "      <td>4.552677</td>\n",
       "      <td>-31.461095</td>\n",
       "      <td>-81.489794</td>\n",
       "      <td>3.009127</td>\n",
       "      <td>-5.003219</td>\n",
       "      <td>5.489333</td>\n",
       "      <td>-38.012705</td>\n",
       "      <td>-100.0</td>\n",
       "      <td>-100.0</td>\n",
       "      <td>-100.0</td>\n",
       "    </tr>\n",
       "    <tr>\n",
       "      <th>176662</th>\n",
       "      <td>15</td>\n",
       "      <td>4</td>\n",
       "      <td>75.018983</td>\n",
       "      <td>-38.461538</td>\n",
       "      <td>-50.041924</td>\n",
       "      <td>-57.228086</td>\n",
       "      <td>-55.603711</td>\n",
       "      <td>-56.931148</td>\n",
       "      <td>-55.660953</td>\n",
       "      <td>-57.126941</td>\n",
       "      <td>...</td>\n",
       "      <td>73.363560</td>\n",
       "      <td>-36.194114</td>\n",
       "      <td>-81.489794</td>\n",
       "      <td>73.060439</td>\n",
       "      <td>-11.523111</td>\n",
       "      <td>74.808291</td>\n",
       "      <td>-19.269077</td>\n",
       "      <td>-100.0</td>\n",
       "      <td>-100.0</td>\n",
       "      <td>-100.0</td>\n",
       "    </tr>\n",
       "  </tbody>\n",
       "</table>\n",
       "<p>5 rows × 27 columns</p>\n",
       "</div>"
      ],
      "text/plain": [
       "        rtf_id  cycle        L_1        L_2        A_1        A_2        B_1  \\\n",
       "176658      15      0 -96.795748 -71.268796 -49.996189 -57.214974 -55.739148   \n",
       "176659      15      1 -74.624146 -62.209519 -50.163884 -57.083852 -55.657886   \n",
       "176660      15      2 -49.673500 -56.965329 -50.102904 -57.110077 -55.617255   \n",
       "176661      15      3   4.920273 -40.859948 -50.133394 -57.083852 -55.549536   \n",
       "176662      15      4  75.018983 -38.461538 -50.041924 -57.228086 -55.603711   \n",
       "\n",
       "              B_2        C_1        C_2  ...        L_4        L_5        L_6  \\\n",
       "176658 -57.114754 -55.511891 -57.022085  ... -97.493393 -75.136673 -81.489794   \n",
       "176659 -56.983607 -55.525442 -57.035192  ... -75.069834 -68.291770 -81.489794   \n",
       "176660 -56.904918 -55.566095 -57.113834  ... -50.426569 -59.889163 -81.489794   \n",
       "176661 -56.891803 -55.484789 -57.008978  ...   4.552677 -31.461095 -81.489794   \n",
       "176662 -56.931148 -55.660953 -57.126941  ...  73.363560 -36.194114 -81.489794   \n",
       "\n",
       "              L_7        L_8        L_9       L_10    A_5    B_5    C_5  \n",
       "176658 -93.297205 -25.016094 -97.297092 -64.834131 -100.0 -100.0 -100.0  \n",
       "176659 -72.005134 -21.812798 -74.762736 -78.715395 -100.0 -100.0 -100.0  \n",
       "176660 -52.481460 -30.269087 -49.889910 -71.861031 -100.0 -100.0 -100.0  \n",
       "176661   3.009127  -5.003219   5.489333 -38.012705 -100.0 -100.0 -100.0  \n",
       "176662  73.060439 -11.523111  74.808291 -19.269077 -100.0 -100.0 -100.0  \n",
       "\n",
       "[5 rows x 27 columns]"
      ]
     },
     "execution_count": 53,
     "metadata": {},
     "output_type": "execute_result"
    }
   ],
   "source": [
    "x_test_data = test_data.loc[:, test_data.columns!='RUL']\n",
    "x_test_data.head()\n"
   ]
  },
  {
   "cell_type": "code",
   "execution_count": 54,
   "metadata": {},
   "outputs": [
    {
     "data": {
      "text/html": [
       "<div>\n",
       "<style scoped>\n",
       "    .dataframe tbody tr th:only-of-type {\n",
       "        vertical-align: middle;\n",
       "    }\n",
       "\n",
       "    .dataframe tbody tr th {\n",
       "        vertical-align: top;\n",
       "    }\n",
       "\n",
       "    .dataframe thead th {\n",
       "        text-align: right;\n",
       "    }\n",
       "</style>\n",
       "<table border=\"1\" class=\"dataframe\">\n",
       "  <thead>\n",
       "    <tr style=\"text-align: right;\">\n",
       "      <th></th>\n",
       "      <th>rtf_id</th>\n",
       "      <th>cycle</th>\n",
       "      <th>L_1</th>\n",
       "      <th>L_2</th>\n",
       "      <th>A_1</th>\n",
       "      <th>A_2</th>\n",
       "      <th>B_1</th>\n",
       "      <th>B_2</th>\n",
       "      <th>C_1</th>\n",
       "      <th>C_2</th>\n",
       "      <th>...</th>\n",
       "      <th>L_4</th>\n",
       "      <th>L_5</th>\n",
       "      <th>L_6</th>\n",
       "      <th>L_7</th>\n",
       "      <th>L_8</th>\n",
       "      <th>L_9</th>\n",
       "      <th>L_10</th>\n",
       "      <th>A_5</th>\n",
       "      <th>B_5</th>\n",
       "      <th>C_5</th>\n",
       "    </tr>\n",
       "  </thead>\n",
       "  <tbody>\n",
       "    <tr>\n",
       "      <th>176658</th>\n",
       "      <td>15</td>\n",
       "      <td>0</td>\n",
       "      <td>-96.795748</td>\n",
       "      <td>-71.268796</td>\n",
       "      <td>-49.996189</td>\n",
       "      <td>-57.214974</td>\n",
       "      <td>-55.739148</td>\n",
       "      <td>-57.114754</td>\n",
       "      <td>-55.511891</td>\n",
       "      <td>-57.022085</td>\n",
       "      <td>...</td>\n",
       "      <td>-97.493393</td>\n",
       "      <td>-75.136673</td>\n",
       "      <td>-81.489794</td>\n",
       "      <td>-93.297205</td>\n",
       "      <td>-25.016094</td>\n",
       "      <td>-97.297092</td>\n",
       "      <td>-64.834131</td>\n",
       "      <td>-100.0</td>\n",
       "      <td>-100.0</td>\n",
       "      <td>-100.0</td>\n",
       "    </tr>\n",
       "    <tr>\n",
       "      <th>176659</th>\n",
       "      <td>15</td>\n",
       "      <td>1</td>\n",
       "      <td>-74.624146</td>\n",
       "      <td>-62.209519</td>\n",
       "      <td>-50.163884</td>\n",
       "      <td>-57.083852</td>\n",
       "      <td>-55.657886</td>\n",
       "      <td>-56.983607</td>\n",
       "      <td>-55.525442</td>\n",
       "      <td>-57.035192</td>\n",
       "      <td>...</td>\n",
       "      <td>-75.069834</td>\n",
       "      <td>-68.291770</td>\n",
       "      <td>-81.489794</td>\n",
       "      <td>-72.005134</td>\n",
       "      <td>-21.812798</td>\n",
       "      <td>-74.762736</td>\n",
       "      <td>-78.715395</td>\n",
       "      <td>-100.0</td>\n",
       "      <td>-100.0</td>\n",
       "      <td>-100.0</td>\n",
       "    </tr>\n",
       "    <tr>\n",
       "      <th>176660</th>\n",
       "      <td>15</td>\n",
       "      <td>2</td>\n",
       "      <td>-49.673500</td>\n",
       "      <td>-56.965329</td>\n",
       "      <td>-50.102904</td>\n",
       "      <td>-57.110077</td>\n",
       "      <td>-55.617255</td>\n",
       "      <td>-56.904918</td>\n",
       "      <td>-55.566095</td>\n",
       "      <td>-57.113834</td>\n",
       "      <td>...</td>\n",
       "      <td>-50.426569</td>\n",
       "      <td>-59.889163</td>\n",
       "      <td>-81.489794</td>\n",
       "      <td>-52.481460</td>\n",
       "      <td>-30.269087</td>\n",
       "      <td>-49.889910</td>\n",
       "      <td>-71.861031</td>\n",
       "      <td>-100.0</td>\n",
       "      <td>-100.0</td>\n",
       "      <td>-100.0</td>\n",
       "    </tr>\n",
       "    <tr>\n",
       "      <th>176661</th>\n",
       "      <td>15</td>\n",
       "      <td>3</td>\n",
       "      <td>4.920273</td>\n",
       "      <td>-40.859948</td>\n",
       "      <td>-50.133394</td>\n",
       "      <td>-57.083852</td>\n",
       "      <td>-55.549536</td>\n",
       "      <td>-56.891803</td>\n",
       "      <td>-55.484789</td>\n",
       "      <td>-57.008978</td>\n",
       "      <td>...</td>\n",
       "      <td>4.552677</td>\n",
       "      <td>-31.461095</td>\n",
       "      <td>-81.489794</td>\n",
       "      <td>3.009127</td>\n",
       "      <td>-5.003219</td>\n",
       "      <td>5.489333</td>\n",
       "      <td>-38.012705</td>\n",
       "      <td>-100.0</td>\n",
       "      <td>-100.0</td>\n",
       "      <td>-100.0</td>\n",
       "    </tr>\n",
       "    <tr>\n",
       "      <th>176662</th>\n",
       "      <td>15</td>\n",
       "      <td>4</td>\n",
       "      <td>75.018983</td>\n",
       "      <td>-38.461538</td>\n",
       "      <td>-50.041924</td>\n",
       "      <td>-57.228086</td>\n",
       "      <td>-55.603711</td>\n",
       "      <td>-56.931148</td>\n",
       "      <td>-55.660953</td>\n",
       "      <td>-57.126941</td>\n",
       "      <td>...</td>\n",
       "      <td>73.363560</td>\n",
       "      <td>-36.194114</td>\n",
       "      <td>-81.489794</td>\n",
       "      <td>73.060439</td>\n",
       "      <td>-11.523111</td>\n",
       "      <td>74.808291</td>\n",
       "      <td>-19.269077</td>\n",
       "      <td>-100.0</td>\n",
       "      <td>-100.0</td>\n",
       "      <td>-100.0</td>\n",
       "    </tr>\n",
       "    <tr>\n",
       "      <th>...</th>\n",
       "      <td>...</td>\n",
       "      <td>...</td>\n",
       "      <td>...</td>\n",
       "      <td>...</td>\n",
       "      <td>...</td>\n",
       "      <td>...</td>\n",
       "      <td>...</td>\n",
       "      <td>...</td>\n",
       "      <td>...</td>\n",
       "      <td>...</td>\n",
       "      <td>...</td>\n",
       "      <td>...</td>\n",
       "      <td>...</td>\n",
       "      <td>...</td>\n",
       "      <td>...</td>\n",
       "      <td>...</td>\n",
       "      <td>...</td>\n",
       "      <td>...</td>\n",
       "      <td>...</td>\n",
       "      <td>...</td>\n",
       "      <td>...</td>\n",
       "    </tr>\n",
       "    <tr>\n",
       "      <th>228407</th>\n",
       "      <td>16</td>\n",
       "      <td>21016</td>\n",
       "      <td>-91.921033</td>\n",
       "      <td>-54.939729</td>\n",
       "      <td>-12.645781</td>\n",
       "      <td>-24.723005</td>\n",
       "      <td>-22.313266</td>\n",
       "      <td>-24.747541</td>\n",
       "      <td>-22.298259</td>\n",
       "      <td>-24.844354</td>\n",
       "      <td>...</td>\n",
       "      <td>-92.374480</td>\n",
       "      <td>-20.766869</td>\n",
       "      <td>-80.250080</td>\n",
       "      <td>-87.664005</td>\n",
       "      <td>-25.706193</td>\n",
       "      <td>-92.346823</td>\n",
       "      <td>-30.123128</td>\n",
       "      <td>-100.0</td>\n",
       "      <td>-100.0</td>\n",
       "      <td>-100.0</td>\n",
       "    </tr>\n",
       "    <tr>\n",
       "      <th>228408</th>\n",
       "      <td>16</td>\n",
       "      <td>21017</td>\n",
       "      <td>-99.331815</td>\n",
       "      <td>-79.731577</td>\n",
       "      <td>-12.706761</td>\n",
       "      <td>-24.762342</td>\n",
       "      <td>-22.448703</td>\n",
       "      <td>-24.813115</td>\n",
       "      <td>-22.284708</td>\n",
       "      <td>-24.831247</td>\n",
       "      <td>...</td>\n",
       "      <td>-97.689694</td>\n",
       "      <td>-74.223021</td>\n",
       "      <td>-80.250080</td>\n",
       "      <td>-93.511124</td>\n",
       "      <td>-25.917343</td>\n",
       "      <td>-97.585605</td>\n",
       "      <td>-60.269783</td>\n",
       "      <td>-100.0</td>\n",
       "      <td>-100.0</td>\n",
       "      <td>-100.0</td>\n",
       "    </tr>\n",
       "    <tr>\n",
       "      <th>228409</th>\n",
       "      <td>16</td>\n",
       "      <td>21018</td>\n",
       "      <td>-99.331815</td>\n",
       "      <td>-79.731577</td>\n",
       "      <td>-12.706761</td>\n",
       "      <td>-24.736117</td>\n",
       "      <td>-22.313266</td>\n",
       "      <td>-24.826230</td>\n",
       "      <td>-22.271157</td>\n",
       "      <td>-24.857461</td>\n",
       "      <td>...</td>\n",
       "      <td>-97.689694</td>\n",
       "      <td>-74.223021</td>\n",
       "      <td>-80.250080</td>\n",
       "      <td>-93.511124</td>\n",
       "      <td>-26.303592</td>\n",
       "      <td>-97.585605</td>\n",
       "      <td>-59.062034</td>\n",
       "      <td>-100.0</td>\n",
       "      <td>-100.0</td>\n",
       "      <td>-100.0</td>\n",
       "    </tr>\n",
       "    <tr>\n",
       "      <th>228410</th>\n",
       "      <td>16</td>\n",
       "      <td>21019</td>\n",
       "      <td>-99.331815</td>\n",
       "      <td>-79.731577</td>\n",
       "      <td>-12.462840</td>\n",
       "      <td>-24.893464</td>\n",
       "      <td>-22.380985</td>\n",
       "      <td>-24.865574</td>\n",
       "      <td>-22.284708</td>\n",
       "      <td>-24.791926</td>\n",
       "      <td>...</td>\n",
       "      <td>-97.689694</td>\n",
       "      <td>-74.223021</td>\n",
       "      <td>-80.250080</td>\n",
       "      <td>-93.511124</td>\n",
       "      <td>-26.725892</td>\n",
       "      <td>-97.585605</td>\n",
       "      <td>-61.242256</td>\n",
       "      <td>-100.0</td>\n",
       "      <td>-100.0</td>\n",
       "      <td>-100.0</td>\n",
       "    </tr>\n",
       "    <tr>\n",
       "      <th>228411</th>\n",
       "      <td>16</td>\n",
       "      <td>21020</td>\n",
       "      <td>-99.331815</td>\n",
       "      <td>-79.731577</td>\n",
       "      <td>-80.364357</td>\n",
       "      <td>-82.219891</td>\n",
       "      <td>-75.309812</td>\n",
       "      <td>-77.586885</td>\n",
       "      <td>-70.174131</td>\n",
       "      <td>-69.434432</td>\n",
       "      <td>...</td>\n",
       "      <td>-97.689694</td>\n",
       "      <td>-74.223021</td>\n",
       "      <td>-80.250080</td>\n",
       "      <td>-93.511124</td>\n",
       "      <td>-24.871894</td>\n",
       "      <td>-97.585605</td>\n",
       "      <td>-62.889185</td>\n",
       "      <td>-100.0</td>\n",
       "      <td>-100.0</td>\n",
       "      <td>-100.0</td>\n",
       "    </tr>\n",
       "  </tbody>\n",
       "</table>\n",
       "<p>51754 rows × 27 columns</p>\n",
       "</div>"
      ],
      "text/plain": [
       "        rtf_id  cycle        L_1        L_2        A_1        A_2        B_1  \\\n",
       "176658      15      0 -96.795748 -71.268796 -49.996189 -57.214974 -55.739148   \n",
       "176659      15      1 -74.624146 -62.209519 -50.163884 -57.083852 -55.657886   \n",
       "176660      15      2 -49.673500 -56.965329 -50.102904 -57.110077 -55.617255   \n",
       "176661      15      3   4.920273 -40.859948 -50.133394 -57.083852 -55.549536   \n",
       "176662      15      4  75.018983 -38.461538 -50.041924 -57.228086 -55.603711   \n",
       "...        ...    ...        ...        ...        ...        ...        ...   \n",
       "228407      16  21016 -91.921033 -54.939729 -12.645781 -24.723005 -22.313266   \n",
       "228408      16  21017 -99.331815 -79.731577 -12.706761 -24.762342 -22.448703   \n",
       "228409      16  21018 -99.331815 -79.731577 -12.706761 -24.736117 -22.313266   \n",
       "228410      16  21019 -99.331815 -79.731577 -12.462840 -24.893464 -22.380985   \n",
       "228411      16  21020 -99.331815 -79.731577 -80.364357 -82.219891 -75.309812   \n",
       "\n",
       "              B_2        C_1        C_2  ...        L_4        L_5        L_6  \\\n",
       "176658 -57.114754 -55.511891 -57.022085  ... -97.493393 -75.136673 -81.489794   \n",
       "176659 -56.983607 -55.525442 -57.035192  ... -75.069834 -68.291770 -81.489794   \n",
       "176660 -56.904918 -55.566095 -57.113834  ... -50.426569 -59.889163 -81.489794   \n",
       "176661 -56.891803 -55.484789 -57.008978  ...   4.552677 -31.461095 -81.489794   \n",
       "176662 -56.931148 -55.660953 -57.126941  ...  73.363560 -36.194114 -81.489794   \n",
       "...           ...        ...        ...  ...        ...        ...        ...   \n",
       "228407 -24.747541 -22.298259 -24.844354  ... -92.374480 -20.766869 -80.250080   \n",
       "228408 -24.813115 -22.284708 -24.831247  ... -97.689694 -74.223021 -80.250080   \n",
       "228409 -24.826230 -22.271157 -24.857461  ... -97.689694 -74.223021 -80.250080   \n",
       "228410 -24.865574 -22.284708 -24.791926  ... -97.689694 -74.223021 -80.250080   \n",
       "228411 -77.586885 -70.174131 -69.434432  ... -97.689694 -74.223021 -80.250080   \n",
       "\n",
       "              L_7        L_8        L_9       L_10    A_5    B_5    C_5  \n",
       "176658 -93.297205 -25.016094 -97.297092 -64.834131 -100.0 -100.0 -100.0  \n",
       "176659 -72.005134 -21.812798 -74.762736 -78.715395 -100.0 -100.0 -100.0  \n",
       "176660 -52.481460 -30.269087 -49.889910 -71.861031 -100.0 -100.0 -100.0  \n",
       "176661   3.009127  -5.003219   5.489333 -38.012705 -100.0 -100.0 -100.0  \n",
       "176662  73.060439 -11.523111  74.808291 -19.269077 -100.0 -100.0 -100.0  \n",
       "...           ...        ...        ...        ...    ...    ...    ...  \n",
       "228407 -87.664005 -25.706193 -92.346823 -30.123128 -100.0 -100.0 -100.0  \n",
       "228408 -93.511124 -25.917343 -97.585605 -60.269783 -100.0 -100.0 -100.0  \n",
       "228409 -93.511124 -26.303592 -97.585605 -59.062034 -100.0 -100.0 -100.0  \n",
       "228410 -93.511124 -26.725892 -97.585605 -61.242256 -100.0 -100.0 -100.0  \n",
       "228411 -93.511124 -24.871894 -97.585605 -62.889185 -100.0 -100.0 -100.0  \n",
       "\n",
       "[51754 rows x 27 columns]"
      ]
     },
     "execution_count": 54,
     "metadata": {},
     "output_type": "execute_result"
    }
   ],
   "source": [
    "x_test_data\n"
   ]
  },
  {
   "cell_type": "markdown",
   "metadata": {},
   "source": [
    "## Computing Remaining Useful Life"
   ]
  },
  {
   "cell_type": "code",
   "execution_count": 55,
   "metadata": {},
   "outputs": [
    {
     "data": {
      "text/plain": [
       "<module 'rul' from 'c:\\\\Users\\\\I539001\\\\OneDrive - SAP SE\\\\PA2\\\\AL\\\\AutoRUL\\\\rul.py'>"
      ]
     },
     "execution_count": 55,
     "metadata": {},
     "output_type": "execute_result"
    }
   ],
   "source": [
    "import importlib\n",
    "import rul\n",
    "importlib.reload(rul)\n"
   ]
  },
  {
   "cell_type": "code",
   "execution_count": 56,
   "metadata": {},
   "outputs": [],
   "source": [
    "test_RUL_per_rtf_id = test_RUL_per_rtf_id[\"rul_per_rtf_id\"]\n",
    "train_RUL_per_rtf_id = train_RUL_per_rtf_id[\"rul_per_rtf_id\"]"
   ]
  },
  {
   "cell_type": "code",
   "execution_count": 57,
   "metadata": {},
   "outputs": [
    {
     "data": {
      "text/plain": [
       "0    2\n",
       "1    1\n",
       "2    1\n",
       "3    1\n",
       "4    2\n",
       "5    1\n",
       "Name: rul_per_rtf_id, dtype: int64"
      ]
     },
     "execution_count": 57,
     "metadata": {},
     "output_type": "execute_result"
    }
   ],
   "source": [
    "train_RUL_per_rtf_id"
   ]
  },
  {
   "cell_type": "code",
   "execution_count": 59,
   "metadata": {},
   "outputs": [
    {
     "name": "stdout",
     "output_type": "stream",
     "text": [
      "valid Configuration!\n",
      "Model: \"sequential\"\n",
      "_________________________________________________________________\n",
      " Layer (type)                Output Shape              Param #   \n",
      "=================================================================\n",
      " module_wrapper (ModuleWrapp  (None, 5, 12, 1, 10)     6980      \n",
      " er)                                                             \n",
      "                                                                 \n",
      " batch_normalization (BatchN  (None, 5, 12, 1, 10)     40        \n",
      " ormalization)                                                   \n",
      "                                                                 \n",
      " module_wrapper_1 (ModuleWra  (None, 8, 1, 20)         18160     \n",
      " pper)                                                           \n",
      "                                                                 \n",
      " batch_normalization_1 (Batc  (None, 8, 1, 20)         80        \n",
      " hNormalization)                                                 \n",
      "                                                                 \n",
      " flatten (Flatten)           (None, 160)               0         \n",
      "                                                                 \n",
      " dense (Dense)               (None, 150)               24150     \n",
      "                                                                 \n",
      " dense_1 (Dense)             (None, 1)                 151       \n",
      "                                                                 \n",
      "=================================================================\n",
      "Total params: 49,561\n",
      "Trainable params: 49,501\n",
      "Non-trainable params: 60\n",
      "_________________________________________________________________\n",
      "None\n",
      "5517/5517 [==============================] - 26s 5ms/step\n",
      "The RMSE on Training dataset kaggel_plant is 2390.298828125.\n",
      "1/1 [==============================] - 1s 556ms/step\n",
      "The RMSE on test dataset kaggel_plant is 8679.205078125.\n"
     ]
    },
    {
     "data": {
      "text/plain": [
       "(   y_batch_test  y_batch_pred_test\n",
       " 0           1.0        8093.197754\n",
       " 1           1.0        9229.952148,\n",
       "         y_batch_train  y_batch_pred_train\n",
       " 0             12000.0         8125.077148\n",
       " 1             12000.0         8135.565918\n",
       " 2             12000.0         8160.982910\n",
       " 3             12000.0         8211.769531\n",
       " 4             12000.0         8276.279297\n",
       " ...               ...                 ...\n",
       " 176539            5.0         9407.902344\n",
       " 176540            4.0         9527.503906\n",
       " 176541            3.0         9542.646484\n",
       " 176542            2.0         9365.714844\n",
       " 176543            1.0         9242.880859\n",
       " \n",
       " [176544 rows x 2 columns])"
      ]
     },
     "execution_count": 59,
     "metadata": {},
     "output_type": "execute_result"
    }
   ],
   "source": [
    "test  = rul.RemainingUsefulLife(x_train_data,x_test_data,test_RUL_per_rtf_id, train_rul_per_rtf_id= train_RUL_per_rtf_id,max_life=12000, epochs= 30, path_to_trained_model=r\"C:\\Users\\I539001\\OneDrive - SAP SE\\PA2\\AL\\AutoRUL\\logs\\kaggel_plant_2022_10_5_9_40_41\\ep005-loss386620.656-val_loss14021205.000.h5\")\n",
    "test.auto_rul()"
   ]
  },
  {
   "cell_type": "code",
   "execution_count": null,
   "metadata": {},
   "outputs": [
    {
     "name": "stdout",
     "output_type": "stream",
     "text": [
      "the interval in the cycles with anomalies (for rtf_id = 1):        cycle\n",
      "16970  16970\n",
      "16971  16971\n",
      "16972  16972\n",
      "16973  16972\n",
      "16974  16973\n",
      "16975  16974\n"
     ]
    },
    {
     "data": {
      "image/png": "[encoded data removed]",
      "text/plain": [
       "<Figure size 432x288 with 1 Axes>"
      ]
     },
     "metadata": {
      "needs_background": "light"
     },
     "output_type": "display_data"
    },
    {
     "name": "stdout",
     "output_type": "stream",
     "text": [
      "the interval in the cycles with anomalies (for rtf_id = 1):        cycle\n",
      "26104  26103\n",
      "26105  26104\n",
      "26106  26105\n",
      "26107  26110\n",
      "26108  26111\n",
      "26109  26112\n"
     ]
    },
    {
     "data": {
      "image/png": "[encoded data removed]",
      "text/plain": [
       "<Figure size 432x288 with 1 Axes>"
      ]
     },
     "metadata": {
      "needs_background": "light"
     },
     "output_type": "display_data"
    },
    {
     "name": "stdout",
     "output_type": "stream",
     "text": [
      "the interval in the cycles with anomalies (for rtf_id = 5):        cycle\n",
      "19746  19746\n",
      "19747  19747\n",
      "19748  19748\n",
      "19749  19748\n",
      "19750  19749\n",
      "19751  19750\n"
     ]
    },
    {
     "data": {
      "image/png": "[encoded data removed]",
      "text/plain": [
       "<Figure size 432x288 with 1 Axes>"
      ]
     },
     "metadata": {
      "needs_background": "light"
     },
     "output_type": "display_data"
    },
    {
     "name": "stdout",
     "output_type": "stream",
     "text": [
      "the interval in the cycles with anomalies (for rtf_id = 6):        cycle\n",
      "18809  18809\n",
      "18810  18810\n",
      "18811  18811\n",
      "18812  18816\n",
      "18813  18817\n",
      "18814  18818\n"
     ]
    },
    {
     "data": {
      "image/png": "[encoded data removed]",
      "text/plain": [
       "<Figure size 432x288 with 1 Axes>"
      ]
     },
     "metadata": {
      "needs_background": "light"
     },
     "output_type": "display_data"
    },
    {
     "name": "stdout",
     "output_type": "stream",
     "text": [
      "the interval in the cycles with anomalies (for rtf_id = 1):        cycle\n",
      "15911  15911\n",
      "15912  15912\n",
      "15913  15913\n",
      "15914  15918\n",
      "15915  15919\n",
      "15916  15920\n"
     ]
    },
    {
     "data": {
      "image/png": "[encoded data removed]",
      "text/plain": [
       "<Figure size 432x288 with 1 Axes>"
      ]
     },
     "metadata": {
      "needs_background": "light"
     },
     "output_type": "display_data"
    },
    {
     "name": "stdout",
     "output_type": "stream",
     "text": [
      "training (176658, 25) (176658,)\n",
      "testing (51754, 25) (51754,)\n"
     ]
    },
    {
     "data": {
      "image/png": "[encoded data removed]",
      "text/plain": [
       "<Figure size 1080x144 with 1 Axes>"
      ]
     },
     "metadata": {
      "needs_background": "light"
     },
     "output_type": "display_data"
    },
    {
     "data": {
      "image/png": "[encoded data removed]",
      "text/plain": [
       "<Figure size 1080x144 with 1 Axes>"
      ]
     },
     "metadata": {
      "needs_background": "light"
     },
     "output_type": "display_data"
    },
    {
     "data": {
      "image/png": "[encoded data removed]",
      "text/plain": [
       "<Figure size 1080x144 with 1 Axes>"
      ]
     },
     "metadata": {
      "needs_background": "light"
     },
     "output_type": "display_data"
    }
   ],
   "source": [
    "test  = rul.RemainingUsefulLife(x_train_data,x_test_data,test_RUL_per_rtf_id, train_rul_per_rtf_id= train_RUL_per_rtf_id,max_life=12000, epochs= 30)\n",
    "\n",
    "test.plot_rul()"
   ]
  }
 ],
 "metadata": {
  "kernelspec": {
   "display_name": "Python 3.7.0 ('auto_rul')",
   "language": "python",
   "name": "python3"
  },
  "language_info": {
   "codemirror_mode": {
    "name": "ipython",
    "version": 3
   },
   "file_extension": ".py",
   "mimetype": "text/x-python",
   "name": "python",
   "nbconvert_exporter": "python",
   "pygments_lexer": "ipython3",
   "version": "3.7.12"
  },
  "orig_nbformat": 4,
  "vscode": {
   "interpreter": {
    "hash": "abe16f79138baa50641dc9e7415c40b1fe64b7a4be5fe4f8e3f1f9ad9c386559"
   }
  }
 },
 "nbformat": 4,
 "nbformat_minor": 2
}
